{
 "cells": [
  {
   "cell_type": "markdown",
   "metadata": {},
   "source": [
    "# Introduction"
   ]
  },
  {
   "cell_type": "markdown",
   "metadata": {},
   "source": [
    "We have explored creating neural networks from scratch, we will now use libraries like fastai and pytorch for doing the same. Benefits of using these libraries include:\n",
    "* Best practices/ settings are handled automatically.\n",
    "* It takes less time setting up.\n",
    "* We can dropdown or convert from one library to another or into simple python codes for deeper customizations."
   ]
  },
  {
   "cell_type": "markdown",
   "metadata": {},
   "source": [
    "We'll import the fastai tabular library, set a random seed so the notebook is reproducible, and pick a reasonable number of significant figures to display in our tables:"
   ]
  },
  {
   "cell_type": "code",
   "execution_count": 1,
   "metadata": {},
   "outputs": [],
   "source": [
    "from fastai.tabular.all import *\n",
    "\n",
    "pd.options.display.float_format = '{:.2f}'.format\n",
    "set_seed(42)"
   ]
  },
  {
   "cell_type": "code",
   "execution_count": 2,
   "metadata": {},
   "outputs": [],
   "source": [
    "train = pd.read_csv(\"playground-series-s5e5/train.csv\")\n",
    "test = pd.read_csv(\"playground-series-s5e5/test.csv\")"
   ]
  },
  {
   "cell_type": "code",
   "execution_count": 3,
   "metadata": {},
   "outputs": [
    {
     "data": {
      "text/plain": [
       "Index(['id', 'Sex', 'Age', 'Height', 'Weight', 'Duration', 'Heart_Rate',\n",
       "       'Body_Temp', 'Calories'],\n",
       "      dtype='object')"
      ]
     },
     "execution_count": 3,
     "metadata": {},
     "output_type": "execute_result"
    }
   ],
   "source": [
    "train.columns"
   ]
  },
  {
   "cell_type": "code",
   "execution_count": 4,
   "metadata": {},
   "outputs": [
    {
     "data": {
      "text/plain": [
       "Index(['id', 'Sex', 'Age', 'Height', 'Weight', 'Duration', 'Heart_Rate',\n",
       "       'Body_Temp'],\n",
       "      dtype='object')"
      ]
     },
     "execution_count": 4,
     "metadata": {},
     "output_type": "execute_result"
    }
   ],
   "source": [
    "test.columns"
   ]
  },
  {
   "cell_type": "code",
   "execution_count": 5,
   "metadata": {},
   "outputs": [
    {
     "data": {
      "text/plain": [
       "Index(['id', 'Sex', 'Age', 'Height', 'Weight', 'Duration', 'Heart_Rate',\n",
       "       'Body_Temp', 'Calories'],\n",
       "      dtype='object')"
      ]
     },
     "execution_count": 5,
     "metadata": {},
     "output_type": "execute_result"
    }
   ],
   "source": [
    "df = train.copy()\n",
    "df.columns"
   ]
  },
  {
   "cell_type": "code",
   "execution_count": 6,
   "metadata": {},
   "outputs": [
    {
     "data": {
      "text/html": [
       "<div>\n",
       "<style scoped>\n",
       "    .dataframe tbody tr th:only-of-type {\n",
       "        vertical-align: middle;\n",
       "    }\n",
       "\n",
       "    .dataframe tbody tr th {\n",
       "        vertical-align: top;\n",
       "    }\n",
       "\n",
       "    .dataframe thead th {\n",
       "        text-align: right;\n",
       "    }\n",
       "</style>\n",
       "<table border=\"1\" class=\"dataframe\">\n",
       "  <thead>\n",
       "    <tr style=\"text-align: right;\">\n",
       "      <th></th>\n",
       "      <th>id</th>\n",
       "      <th>Sex</th>\n",
       "      <th>Age</th>\n",
       "      <th>Height</th>\n",
       "      <th>Weight</th>\n",
       "      <th>Duration</th>\n",
       "      <th>Heart_Rate</th>\n",
       "      <th>Body_Temp</th>\n",
       "      <th>Calories</th>\n",
       "    </tr>\n",
       "  </thead>\n",
       "  <tbody>\n",
       "    <tr>\n",
       "      <th>0</th>\n",
       "      <td>0</td>\n",
       "      <td>male</td>\n",
       "      <td>36</td>\n",
       "      <td>189.00</td>\n",
       "      <td>82.00</td>\n",
       "      <td>26.00</td>\n",
       "      <td>101.00</td>\n",
       "      <td>41.00</td>\n",
       "      <td>150.00</td>\n",
       "    </tr>\n",
       "    <tr>\n",
       "      <th>1</th>\n",
       "      <td>1</td>\n",
       "      <td>female</td>\n",
       "      <td>64</td>\n",
       "      <td>163.00</td>\n",
       "      <td>60.00</td>\n",
       "      <td>8.00</td>\n",
       "      <td>85.00</td>\n",
       "      <td>39.70</td>\n",
       "      <td>34.00</td>\n",
       "    </tr>\n",
       "    <tr>\n",
       "      <th>2</th>\n",
       "      <td>2</td>\n",
       "      <td>female</td>\n",
       "      <td>51</td>\n",
       "      <td>161.00</td>\n",
       "      <td>64.00</td>\n",
       "      <td>7.00</td>\n",
       "      <td>84.00</td>\n",
       "      <td>39.80</td>\n",
       "      <td>29.00</td>\n",
       "    </tr>\n",
       "    <tr>\n",
       "      <th>3</th>\n",
       "      <td>3</td>\n",
       "      <td>male</td>\n",
       "      <td>20</td>\n",
       "      <td>192.00</td>\n",
       "      <td>90.00</td>\n",
       "      <td>25.00</td>\n",
       "      <td>105.00</td>\n",
       "      <td>40.70</td>\n",
       "      <td>140.00</td>\n",
       "    </tr>\n",
       "    <tr>\n",
       "      <th>4</th>\n",
       "      <td>4</td>\n",
       "      <td>female</td>\n",
       "      <td>38</td>\n",
       "      <td>166.00</td>\n",
       "      <td>61.00</td>\n",
       "      <td>25.00</td>\n",
       "      <td>102.00</td>\n",
       "      <td>40.60</td>\n",
       "      <td>146.00</td>\n",
       "    </tr>\n",
       "  </tbody>\n",
       "</table>\n",
       "</div>"
      ],
      "text/plain": [
       "   id     Sex  Age  Height  Weight  Duration  Heart_Rate  Body_Temp  Calories\n",
       "0   0    male   36  189.00   82.00     26.00      101.00      41.00    150.00\n",
       "1   1  female   64  163.00   60.00      8.00       85.00      39.70     34.00\n",
       "2   2  female   51  161.00   64.00      7.00       84.00      39.80     29.00\n",
       "3   3    male   20  192.00   90.00     25.00      105.00      40.70    140.00\n",
       "4   4  female   38  166.00   61.00     25.00      102.00      40.60    146.00"
      ]
     },
     "execution_count": 6,
     "metadata": {},
     "output_type": "execute_result"
    }
   ],
   "source": [
    "df.head()"
   ]
  },
  {
   "cell_type": "markdown",
   "metadata": {},
   "source": [
    "Check if there are any duplicate rows for predictions in the dataset."
   ]
  },
  {
   "cell_type": "code",
   "execution_count": 7,
   "metadata": {},
   "outputs": [
    {
     "data": {
      "text/plain": [
       "False    747159\n",
       "True       2841\n",
       "Name: count, dtype: int64"
      ]
     },
     "execution_count": 7,
     "metadata": {},
     "output_type": "execute_result"
    }
   ],
   "source": [
    "df.drop(columns=['id']).duplicated().value_counts()"
   ]
  },
  {
   "cell_type": "code",
   "execution_count": 8,
   "metadata": {},
   "outputs": [],
   "source": [
    "df = df[~df.drop(columns=['id']).duplicated()].reset_index(drop=True)"
   ]
  },
  {
   "cell_type": "markdown",
   "metadata": {},
   "source": [
    "# Preparing the Data\n",
    "While doing every bit of feature engineering from scratch, we need to take care of things like dummy variables, normalization, missing values, and so on. But fastai takes care of these."
   ]
  },
  {
   "cell_type": "code",
   "execution_count": 9,
   "metadata": {},
   "outputs": [],
   "source": [
    "def create_predictor_features(df):\n",
    "    df['BMI'] = df['Weight'] / ((df['Height'] / 100) ** 2)\n",
    "    df['Intensity'] = df['Heart_Rate'] * df['Duration']\n",
    "    df['Age_Group'] = pd.cut(\n",
    "        df['Age'],\n",
    "        bins=[0, 20, 35, 50, 65, 100],\n",
    "        labels=['Teen', 'Young Adult', 'Adult', 'Middle Age', 'Senior']\n",
    "    )\n",
    "    df['Temp_Above_Normal'] = df['Body_Temp'] - 37.0\n",
    "    def heart_rate_zone(hr):\n",
    "        if hr < 90:\n",
    "            return 'Low'\n",
    "        elif hr < 120:\n",
    "            return 'Moderate'\n",
    "        else:\n",
    "            return 'High'\n",
    "    df['HR_Zone'] = df['Heart_Rate'].apply(heart_rate_zone)\n",
    "    return df\n",
    "\n",
    "df_train = create_predictor_features(df)"
   ]
  },
  {
   "cell_type": "code",
   "execution_count": 10,
   "metadata": {},
   "outputs": [],
   "source": [
    "numerical_features = ['Age', 'Height', 'Weight', 'Duration', 'Heart_Rate', 'Body_Temp']\n",
    "\n",
    "def add_feature_cross_terms(df, numerical_features):\n",
    "    df_new = df.copy()\n",
    "    for i in range(len(numerical_features)):\n",
    "        for j in range(i + 1, len(numerical_features)):\n",
    "            feature1 = numerical_features[i]\n",
    "            feature2 = numerical_features[j]\n",
    "            cross_term_name = f\"{feature1}_x_{feature2}\"\n",
    "            df_new[cross_term_name] = df_new[feature1] * df_new[feature2]\n",
    "    return df_new\n",
    "\n",
    "df_train = add_feature_cross_terms(df_train, numerical_features)"
   ]
  },
  {
   "cell_type": "code",
   "execution_count": 11,
   "metadata": {},
   "outputs": [
    {
     "data": {
      "text/plain": [
       "Index(['id', 'Sex', 'Age', 'Height', 'Weight', 'Duration', 'Heart_Rate',\n",
       "       'Body_Temp', 'Calories', 'BMI', 'Intensity', 'Age_Group',\n",
       "       'Temp_Above_Normal', 'HR_Zone'],\n",
       "      dtype='object')"
      ]
     },
     "execution_count": 11,
     "metadata": {},
     "output_type": "execute_result"
    }
   ],
   "source": [
    "df.columns"
   ]
  },
  {
   "cell_type": "code",
   "execution_count": 12,
   "metadata": {},
   "outputs": [
    {
     "data": {
      "text/plain": [
       "Index(['id', 'Sex', 'Age', 'Height', 'Weight', 'Duration', 'Heart_Rate',\n",
       "       'Body_Temp', 'Calories', 'BMI', 'Intensity', 'Age_Group',\n",
       "       'Temp_Above_Normal', 'HR_Zone', 'Age_x_Height', 'Age_x_Weight',\n",
       "       'Age_x_Duration', 'Age_x_Heart_Rate', 'Age_x_Body_Temp',\n",
       "       'Height_x_Weight', 'Height_x_Duration', 'Height_x_Heart_Rate',\n",
       "       'Height_x_Body_Temp', 'Weight_x_Duration', 'Weight_x_Heart_Rate',\n",
       "       'Weight_x_Body_Temp', 'Duration_x_Heart_Rate', 'Duration_x_Body_Temp',\n",
       "       'Heart_Rate_x_Body_Temp'],\n",
       "      dtype='object')"
      ]
     },
     "execution_count": 12,
     "metadata": {},
     "output_type": "execute_result"
    }
   ],
   "source": [
    "df_train.columns"
   ]
  },
  {
   "cell_type": "code",
   "execution_count": 13,
   "metadata": {},
   "outputs": [],
   "source": [
    "df_train[\"y_train\"] = np.log1p( df_train[\"Calories\"])"
   ]
  },
  {
   "cell_type": "markdown",
   "metadata": {},
   "source": [
    "Now entire process of getting the data ready for training requires just one cell:"
   ]
  },
  {
   "cell_type": "code",
   "execution_count": 14,
   "metadata": {},
   "outputs": [],
   "source": [
    "cat_names = ['Sex', 'Age_Group', 'HR_Zone']\n",
    "cont_names = ['BMI', 'Intensity', 'Age', 'Height', 'Weight', 'Duration', 'Heart_Rate',\n",
    "       'Body_Temp',\n",
    "       'Temp_Above_Normal', 'Age_x_Height', 'Age_x_Weight',\n",
    "       'Age_x_Duration', 'Age_x_Heart_Rate', 'Age_x_Body_Temp',\n",
    "       'Height_x_Weight', 'Height_x_Duration', 'Height_x_Heart_Rate',\n",
    "       'Height_x_Body_Temp', 'Weight_x_Duration', 'Weight_x_Heart_Rate',\n",
    "       'Weight_x_Body_Temp', 'Duration_x_Heart_Rate', 'Duration_x_Body_Temp',\n",
    "       'Heart_Rate_x_Body_Temp']"
   ]
  },
  {
   "cell_type": "code",
   "execution_count": 15,
   "metadata": {},
   "outputs": [],
   "source": [
    "splits = RandomSplitter(seed = 42)(df_train)"
   ]
  },
  {
   "cell_type": "code",
   "execution_count": 16,
   "metadata": {},
   "outputs": [],
   "source": [
    "dls = TabularPandas(\n",
    "    df_train, splits = splits,\n",
    "    procs = [Categorify, FillMissing, Normalize],\n",
    "    cat_names = cat_names,\n",
    "    cont_names = cont_names,\n",
    "    y_names = \"y_train\", y_block = RegressionBlock(),\n",
    ").dataloaders(path=\".\")"
   ]
  },
  {
   "cell_type": "markdown",
   "metadata": {},
   "source": [
    "Here's what each of the parameters means:\n",
    "* Use splits for indices of training and validation sets:\n",
    "  ```\n",
    "  splits = splits,\n",
    "  ```\n",
    "* Turn strings into categories, fill missing values in numeric columns with the median, normalise all numeric columns:\n",
    "* ```\n",
    "  procs = [Categorify, FillMissing, Normalize],\n",
    "  ```\n",
    "* These are the categorical independent variables:\n",
    "  ```\n",
    "  cat_names = ['Sex'],\n",
    "  ```\n",
    "* These are the continuous independent variables:\n",
    "  ```\n",
    "  cont_names = ['Age', 'Height', 'Weight', 'Duration', 'Heart_Rate', 'Body_Temp'],\n",
    "  ```\n",
    "* This is the dependent variable:\n",
    "  ```\n",
    "  y_names = \"Calories\",\n",
    "  ```\n",
    "* The dependent variable is a regression model:\n",
    "  ```\n",
    "  y_block = RegressionBlock(),\n",
    "  ```"
   ]
  },
  {
   "cell_type": "code",
   "execution_count": 17,
   "metadata": {},
   "outputs": [
    {
     "data": {
      "text/html": [
       "<div>\n",
       "<style scoped>\n",
       "    .dataframe tbody tr th:only-of-type {\n",
       "        vertical-align: middle;\n",
       "    }\n",
       "\n",
       "    .dataframe tbody tr th {\n",
       "        vertical-align: top;\n",
       "    }\n",
       "\n",
       "    .dataframe thead th {\n",
       "        text-align: right;\n",
       "    }\n",
       "</style>\n",
       "<table border=\"1\" class=\"dataframe\">\n",
       "  <thead>\n",
       "    <tr style=\"text-align: right;\">\n",
       "      <th></th>\n",
       "      <th>Sex</th>\n",
       "      <th>Age_Group</th>\n",
       "      <th>HR_Zone</th>\n",
       "      <th>BMI</th>\n",
       "      <th>Intensity</th>\n",
       "      <th>Age</th>\n",
       "      <th>Height</th>\n",
       "      <th>Weight</th>\n",
       "      <th>Duration</th>\n",
       "      <th>Heart_Rate</th>\n",
       "      <th>...</th>\n",
       "      <th>Height_x_Weight</th>\n",
       "      <th>Height_x_Duration</th>\n",
       "      <th>Height_x_Heart_Rate</th>\n",
       "      <th>Height_x_Body_Temp</th>\n",
       "      <th>Weight_x_Duration</th>\n",
       "      <th>Weight_x_Heart_Rate</th>\n",
       "      <th>Weight_x_Body_Temp</th>\n",
       "      <th>Duration_x_Heart_Rate</th>\n",
       "      <th>Duration_x_Body_Temp</th>\n",
       "      <th>Heart_Rate_x_Body_Temp</th>\n",
       "    </tr>\n",
       "  </thead>\n",
       "  <tbody>\n",
       "    <tr>\n",
       "      <th>317208</th>\n",
       "      <td>2</td>\n",
       "      <td>3</td>\n",
       "      <td>3</td>\n",
       "      <td>0.04</td>\n",
       "      <td>0.22</td>\n",
       "      <td>0.37</td>\n",
       "      <td>-0.05</td>\n",
       "      <td>-0.08</td>\n",
       "      <td>0.19</td>\n",
       "      <td>0.79</td>\n",
       "      <td>...</td>\n",
       "      <td>-0.12</td>\n",
       "      <td>0.18</td>\n",
       "      <td>0.61</td>\n",
       "      <td>0.03</td>\n",
       "      <td>0.15</td>\n",
       "      <td>0.29</td>\n",
       "      <td>-0.05</td>\n",
       "      <td>0.22</td>\n",
       "      <td>0.18</td>\n",
       "      <td>0.74</td>\n",
       "    </tr>\n",
       "    <tr>\n",
       "      <th>88983</th>\n",
       "      <td>1</td>\n",
       "      <td>5</td>\n",
       "      <td>2</td>\n",
       "      <td>-1.12</td>\n",
       "      <td>-0.80</td>\n",
       "      <td>2.41</td>\n",
       "      <td>-0.83</td>\n",
       "      <td>-1.01</td>\n",
       "      <td>-0.77</td>\n",
       "      <td>-0.69</td>\n",
       "      <td>...</td>\n",
       "      <td>-0.97</td>\n",
       "      <td>-0.83</td>\n",
       "      <td>-1.02</td>\n",
       "      <td>-0.95</td>\n",
       "      <td>-0.90</td>\n",
       "      <td>-1.15</td>\n",
       "      <td>-1.06</td>\n",
       "      <td>-0.80</td>\n",
       "      <td>-0.78</td>\n",
       "      <td>-0.70</td>\n",
       "    </tr>\n",
       "  </tbody>\n",
       "</table>\n",
       "<p>2 rows × 27 columns</p>\n",
       "</div>"
      ],
      "text/plain": [
       "        Sex  Age_Group  HR_Zone   BMI  Intensity  Age  Height  Weight  \\\n",
       "317208    2          3        3  0.04       0.22 0.37   -0.05   -0.08   \n",
       "88983     1          5        2 -1.12      -0.80 2.41   -0.83   -1.01   \n",
       "\n",
       "        Duration  Heart_Rate  ...  Height_x_Weight  Height_x_Duration  \\\n",
       "317208      0.19        0.79  ...            -0.12               0.18   \n",
       "88983      -0.77       -0.69  ...            -0.97              -0.83   \n",
       "\n",
       "        Height_x_Heart_Rate  Height_x_Body_Temp  Weight_x_Duration  \\\n",
       "317208                 0.61                0.03               0.15   \n",
       "88983                 -1.02               -0.95              -0.90   \n",
       "\n",
       "        Weight_x_Heart_Rate  Weight_x_Body_Temp  Duration_x_Heart_Rate  \\\n",
       "317208                 0.29               -0.05                   0.22   \n",
       "88983                 -1.15               -1.06                  -0.80   \n",
       "\n",
       "        Duration_x_Body_Temp  Heart_Rate_x_Body_Temp  \n",
       "317208                  0.18                    0.74  \n",
       "88983                  -0.78                   -0.70  \n",
       "\n",
       "[2 rows x 27 columns]"
      ]
     },
     "execution_count": 17,
     "metadata": {},
     "output_type": "execute_result"
    }
   ],
   "source": [
    "dls.xs.iloc[:2]"
   ]
  },
  {
   "cell_type": "code",
   "execution_count": 18,
   "metadata": {},
   "outputs": [
    {
     "data": {
      "text/html": [
       "<table border=\"1\" class=\"dataframe\">\n",
       "  <thead>\n",
       "    <tr style=\"text-align: right;\">\n",
       "      <th></th>\n",
       "      <th>Sex</th>\n",
       "      <th>Age_Group</th>\n",
       "      <th>HR_Zone</th>\n",
       "      <th>BMI</th>\n",
       "      <th>Intensity</th>\n",
       "      <th>Age</th>\n",
       "      <th>Height</th>\n",
       "      <th>Weight</th>\n",
       "      <th>Duration</th>\n",
       "      <th>Heart_Rate</th>\n",
       "      <th>Body_Temp</th>\n",
       "      <th>Temp_Above_Normal</th>\n",
       "      <th>Age_x_Height</th>\n",
       "      <th>Age_x_Weight</th>\n",
       "      <th>Age_x_Duration</th>\n",
       "      <th>Age_x_Heart_Rate</th>\n",
       "      <th>Age_x_Body_Temp</th>\n",
       "      <th>Height_x_Weight</th>\n",
       "      <th>Height_x_Duration</th>\n",
       "      <th>Height_x_Heart_Rate</th>\n",
       "      <th>Height_x_Body_Temp</th>\n",
       "      <th>Weight_x_Duration</th>\n",
       "      <th>Weight_x_Heart_Rate</th>\n",
       "      <th>Weight_x_Body_Temp</th>\n",
       "      <th>Duration_x_Heart_Rate</th>\n",
       "      <th>Duration_x_Body_Temp</th>\n",
       "      <th>Heart_Rate_x_Body_Temp</th>\n",
       "      <th>y_train</th>\n",
       "    </tr>\n",
       "  </thead>\n",
       "  <tbody>\n",
       "    <tr>\n",
       "      <th>0</th>\n",
       "      <td>female</td>\n",
       "      <td>Young Adult</td>\n",
       "      <td>Moderate</td>\n",
       "      <td>23.53</td>\n",
       "      <td>368.00</td>\n",
       "      <td>23.00</td>\n",
       "      <td>161.00</td>\n",
       "      <td>61.00</td>\n",
       "      <td>4.00</td>\n",
       "      <td>92.00</td>\n",
       "      <td>38.90</td>\n",
       "      <td>1.90</td>\n",
       "      <td>3703.00</td>\n",
       "      <td>1403.00</td>\n",
       "      <td>92.00</td>\n",
       "      <td>2116.00</td>\n",
       "      <td>894.70</td>\n",
       "      <td>9821.00</td>\n",
       "      <td>644.00</td>\n",
       "      <td>14812.00</td>\n",
       "      <td>6262.90</td>\n",
       "      <td>244.00</td>\n",
       "      <td>5612.00</td>\n",
       "      <td>2372.90</td>\n",
       "      <td>368.00</td>\n",
       "      <td>155.60</td>\n",
       "      <td>3578.80</td>\n",
       "      <td>2.94</td>\n",
       "    </tr>\n",
       "    <tr>\n",
       "      <th>1</th>\n",
       "      <td>male</td>\n",
       "      <td>Senior</td>\n",
       "      <td>Moderate</td>\n",
       "      <td>28.01</td>\n",
       "      <td>1767.00</td>\n",
       "      <td>69.00</td>\n",
       "      <td>188.00</td>\n",
       "      <td>99.00</td>\n",
       "      <td>19.00</td>\n",
       "      <td>93.00</td>\n",
       "      <td>40.70</td>\n",
       "      <td>3.70</td>\n",
       "      <td>12972.00</td>\n",
       "      <td>6831.00</td>\n",
       "      <td>1311.00</td>\n",
       "      <td>6417.00</td>\n",
       "      <td>2808.30</td>\n",
       "      <td>18612.00</td>\n",
       "      <td>3572.00</td>\n",
       "      <td>17484.00</td>\n",
       "      <td>7651.60</td>\n",
       "      <td>1881.00</td>\n",
       "      <td>9207.00</td>\n",
       "      <td>4029.30</td>\n",
       "      <td>1767.00</td>\n",
       "      <td>773.30</td>\n",
       "      <td>3785.10</td>\n",
       "      <td>4.81</td>\n",
       "    </tr>\n",
       "    <tr>\n",
       "      <th>2</th>\n",
       "      <td>female</td>\n",
       "      <td>Adult</td>\n",
       "      <td>Moderate</td>\n",
       "      <td>22.68</td>\n",
       "      <td>1615.00</td>\n",
       "      <td>50.00</td>\n",
       "      <td>164.00</td>\n",
       "      <td>61.00</td>\n",
       "      <td>17.00</td>\n",
       "      <td>95.00</td>\n",
       "      <td>40.10</td>\n",
       "      <td>3.10</td>\n",
       "      <td>8200.00</td>\n",
       "      <td>3050.00</td>\n",
       "      <td>850.00</td>\n",
       "      <td>4750.00</td>\n",
       "      <td>2005.00</td>\n",
       "      <td>10004.00</td>\n",
       "      <td>2788.00</td>\n",
       "      <td>15580.00</td>\n",
       "      <td>6576.40</td>\n",
       "      <td>1037.00</td>\n",
       "      <td>5795.00</td>\n",
       "      <td>2446.10</td>\n",
       "      <td>1615.00</td>\n",
       "      <td>681.70</td>\n",
       "      <td>3809.50</td>\n",
       "      <td>4.52</td>\n",
       "    </tr>\n",
       "    <tr>\n",
       "      <th>3</th>\n",
       "      <td>male</td>\n",
       "      <td>Middle Age</td>\n",
       "      <td>Low</td>\n",
       "      <td>25.42</td>\n",
       "      <td>240.00</td>\n",
       "      <td>61.00</td>\n",
       "      <td>185.00</td>\n",
       "      <td>87.00</td>\n",
       "      <td>3.00</td>\n",
       "      <td>80.00</td>\n",
       "      <td>38.70</td>\n",
       "      <td>1.70</td>\n",
       "      <td>11285.00</td>\n",
       "      <td>5307.00</td>\n",
       "      <td>183.00</td>\n",
       "      <td>4880.00</td>\n",
       "      <td>2360.70</td>\n",
       "      <td>16095.00</td>\n",
       "      <td>555.00</td>\n",
       "      <td>14800.00</td>\n",
       "      <td>7159.50</td>\n",
       "      <td>261.00</td>\n",
       "      <td>6960.00</td>\n",
       "      <td>3366.90</td>\n",
       "      <td>240.00</td>\n",
       "      <td>116.10</td>\n",
       "      <td>3096.00</td>\n",
       "      <td>2.48</td>\n",
       "    </tr>\n",
       "    <tr>\n",
       "      <th>4</th>\n",
       "      <td>male</td>\n",
       "      <td>Adult</td>\n",
       "      <td>Moderate</td>\n",
       "      <td>24.98</td>\n",
       "      <td>3540.00</td>\n",
       "      <td>45.00</td>\n",
       "      <td>194.00</td>\n",
       "      <td>94.00</td>\n",
       "      <td>30.00</td>\n",
       "      <td>118.00</td>\n",
       "      <td>41.20</td>\n",
       "      <td>4.20</td>\n",
       "      <td>8730.00</td>\n",
       "      <td>4230.00</td>\n",
       "      <td>1350.00</td>\n",
       "      <td>5310.00</td>\n",
       "      <td>1854.00</td>\n",
       "      <td>18236.00</td>\n",
       "      <td>5820.00</td>\n",
       "      <td>22892.00</td>\n",
       "      <td>7992.80</td>\n",
       "      <td>2820.00</td>\n",
       "      <td>11092.00</td>\n",
       "      <td>3872.80</td>\n",
       "      <td>3540.00</td>\n",
       "      <td>1236.00</td>\n",
       "      <td>4861.60</td>\n",
       "      <td>5.57</td>\n",
       "    </tr>\n",
       "    <tr>\n",
       "      <th>5</th>\n",
       "      <td>male</td>\n",
       "      <td>Middle Age</td>\n",
       "      <td>Moderate</td>\n",
       "      <td>26.88</td>\n",
       "      <td>1302.00</td>\n",
       "      <td>54.00</td>\n",
       "      <td>184.00</td>\n",
       "      <td>91.00</td>\n",
       "      <td>14.00</td>\n",
       "      <td>93.00</td>\n",
       "      <td>40.00</td>\n",
       "      <td>3.00</td>\n",
       "      <td>9936.00</td>\n",
       "      <td>4914.00</td>\n",
       "      <td>756.00</td>\n",
       "      <td>5022.00</td>\n",
       "      <td>2160.00</td>\n",
       "      <td>16744.00</td>\n",
       "      <td>2576.00</td>\n",
       "      <td>17112.00</td>\n",
       "      <td>7360.00</td>\n",
       "      <td>1274.00</td>\n",
       "      <td>8463.00</td>\n",
       "      <td>3640.00</td>\n",
       "      <td>1302.00</td>\n",
       "      <td>560.00</td>\n",
       "      <td>3720.00</td>\n",
       "      <td>4.34</td>\n",
       "    </tr>\n",
       "    <tr>\n",
       "      <th>6</th>\n",
       "      <td>female</td>\n",
       "      <td>Young Adult</td>\n",
       "      <td>Low</td>\n",
       "      <td>22.55</td>\n",
       "      <td>1157.00</td>\n",
       "      <td>33.00</td>\n",
       "      <td>159.00</td>\n",
       "      <td>57.00</td>\n",
       "      <td>13.00</td>\n",
       "      <td>89.00</td>\n",
       "      <td>39.80</td>\n",
       "      <td>2.80</td>\n",
       "      <td>5247.00</td>\n",
       "      <td>1881.00</td>\n",
       "      <td>429.00</td>\n",
       "      <td>2937.00</td>\n",
       "      <td>1313.40</td>\n",
       "      <td>9063.00</td>\n",
       "      <td>2067.00</td>\n",
       "      <td>14151.00</td>\n",
       "      <td>6328.20</td>\n",
       "      <td>741.00</td>\n",
       "      <td>5073.00</td>\n",
       "      <td>2268.60</td>\n",
       "      <td>1157.00</td>\n",
       "      <td>517.40</td>\n",
       "      <td>3542.20</td>\n",
       "      <td>4.01</td>\n",
       "    </tr>\n",
       "    <tr>\n",
       "      <th>7</th>\n",
       "      <td>male</td>\n",
       "      <td>Adult</td>\n",
       "      <td>Moderate</td>\n",
       "      <td>24.40</td>\n",
       "      <td>2940.00</td>\n",
       "      <td>38.00</td>\n",
       "      <td>191.00</td>\n",
       "      <td>89.00</td>\n",
       "      <td>28.00</td>\n",
       "      <td>105.00</td>\n",
       "      <td>41.10</td>\n",
       "      <td>4.10</td>\n",
       "      <td>7258.00</td>\n",
       "      <td>3382.00</td>\n",
       "      <td>1064.00</td>\n",
       "      <td>3990.00</td>\n",
       "      <td>1561.80</td>\n",
       "      <td>16999.00</td>\n",
       "      <td>5348.00</td>\n",
       "      <td>20055.00</td>\n",
       "      <td>7850.10</td>\n",
       "      <td>2492.00</td>\n",
       "      <td>9345.00</td>\n",
       "      <td>3657.90</td>\n",
       "      <td>2940.00</td>\n",
       "      <td>1150.80</td>\n",
       "      <td>4315.50</td>\n",
       "      <td>5.20</td>\n",
       "    </tr>\n",
       "    <tr>\n",
       "      <th>8</th>\n",
       "      <td>male</td>\n",
       "      <td>Young Adult</td>\n",
       "      <td>Moderate</td>\n",
       "      <td>25.18</td>\n",
       "      <td>184.00</td>\n",
       "      <td>32.00</td>\n",
       "      <td>176.00</td>\n",
       "      <td>78.00</td>\n",
       "      <td>2.00</td>\n",
       "      <td>92.00</td>\n",
       "      <td>38.20</td>\n",
       "      <td>1.20</td>\n",
       "      <td>5632.00</td>\n",
       "      <td>2496.00</td>\n",
       "      <td>64.00</td>\n",
       "      <td>2944.00</td>\n",
       "      <td>1222.40</td>\n",
       "      <td>13728.00</td>\n",
       "      <td>352.00</td>\n",
       "      <td>16192.00</td>\n",
       "      <td>6723.20</td>\n",
       "      <td>156.00</td>\n",
       "      <td>7176.00</td>\n",
       "      <td>2979.60</td>\n",
       "      <td>184.00</td>\n",
       "      <td>76.40</td>\n",
       "      <td>3514.40</td>\n",
       "      <td>2.20</td>\n",
       "    </tr>\n",
       "    <tr>\n",
       "      <th>9</th>\n",
       "      <td>male</td>\n",
       "      <td>Senior</td>\n",
       "      <td>Moderate</td>\n",
       "      <td>25.03</td>\n",
       "      <td>3360.00</td>\n",
       "      <td>75.00</td>\n",
       "      <td>181.00</td>\n",
       "      <td>82.00</td>\n",
       "      <td>30.00</td>\n",
       "      <td>112.00</td>\n",
       "      <td>41.00</td>\n",
       "      <td>4.00</td>\n",
       "      <td>13575.00</td>\n",
       "      <td>6150.00</td>\n",
       "      <td>2250.00</td>\n",
       "      <td>8400.00</td>\n",
       "      <td>3075.00</td>\n",
       "      <td>14842.00</td>\n",
       "      <td>5430.00</td>\n",
       "      <td>20272.00</td>\n",
       "      <td>7421.00</td>\n",
       "      <td>2460.00</td>\n",
       "      <td>9184.00</td>\n",
       "      <td>3362.00</td>\n",
       "      <td>3360.00</td>\n",
       "      <td>1230.00</td>\n",
       "      <td>4592.00</td>\n",
       "      <td>5.56</td>\n",
       "    </tr>\n",
       "  </tbody>\n",
       "</table>"
      ],
      "text/plain": [
       "<IPython.core.display.HTML object>"
      ]
     },
     "metadata": {},
     "output_type": "display_data"
    }
   ],
   "source": [
    "dls.show_batch()"
   ]
  },
  {
   "cell_type": "markdown",
   "metadata": {},
   "source": [
    "# Train the model\n",
    "\n",
    "The data and model together make up a Learner. To set it up, we specify the data (dls) and the size of each hidden layer ([100, 200, 100]), along with any metrics we like to monitor during training such as absolute error, rmsle, etc. We do not need to initialize a set of random coefficients that will train correctly as it will be done automatically. "
   ]
  },
  {
   "cell_type": "markdown",
   "metadata": {},
   "source": [
    "We can also find what learning rate is good using fastai."
   ]
  },
  {
   "cell_type": "code",
   "execution_count": 19,
   "metadata": {},
   "outputs": [],
   "source": [
    "learn = tabular_learner(dls, metrics=mse, layers=[100, 200, 100])"
   ]
  },
  {
   "cell_type": "code",
   "execution_count": 20,
   "metadata": {},
   "outputs": [
    {
     "data": {
      "text/html": [
       "\n",
       "<style>\n",
       "    /* Turns off some styling */\n",
       "    progress {\n",
       "        /* gets rid of default border in Firefox and Opera. */\n",
       "        border: none;\n",
       "        /* Needs to be in here for Safari polyfill so background images work as expected. */\n",
       "        background-size: auto;\n",
       "    }\n",
       "    progress:not([value]), progress:not([value])::-webkit-progress-bar {\n",
       "        background: repeating-linear-gradient(45deg, #7e7e7e, #7e7e7e 10px, #5c5c5c 10px, #5c5c5c 20px);\n",
       "    }\n",
       "    .progress-bar-interrupted, .progress-bar-interrupted::-webkit-progress-bar {\n",
       "        background: #F44336;\n",
       "    }\n",
       "</style>\n"
      ],
      "text/plain": [
       "<IPython.core.display.HTML object>"
      ]
     },
     "metadata": {},
     "output_type": "display_data"
    },
    {
     "data": {
      "text/html": [],
      "text/plain": [
       "<IPython.core.display.HTML object>"
      ]
     },
     "metadata": {},
     "output_type": "display_data"
    },
    {
     "data": {
      "text/plain": [
       "SuggestedLRs(slide=0.00019054606673307717, valley=0.0030199517495930195)"
      ]
     },
     "execution_count": 20,
     "metadata": {},
     "output_type": "execute_result"
    },
    {
     "data": {
      "image/png": "[encoded data removed]",
      "text/plain": [
       "<Figure size 640x480 with 1 Axes>"
      ]
     },
     "metadata": {},
     "output_type": "display_data"
    }
   ],
   "source": [
    "learn.lr_find(suggest_funcs=(slide, valley))"
   ]
  },
  {
   "cell_type": "code",
   "execution_count": 21,
   "metadata": {},
   "outputs": [
    {
     "data": {
      "text/html": [
       "\n",
       "<style>\n",
       "    /* Turns off some styling */\n",
       "    progress {\n",
       "        /* gets rid of default border in Firefox and Opera. */\n",
       "        border: none;\n",
       "        /* Needs to be in here for Safari polyfill so background images work as expected. */\n",
       "        background-size: auto;\n",
       "    }\n",
       "    progress:not([value]), progress:not([value])::-webkit-progress-bar {\n",
       "        background: repeating-linear-gradient(45deg, #7e7e7e, #7e7e7e 10px, #5c5c5c 10px, #5c5c5c 20px);\n",
       "    }\n",
       "    .progress-bar-interrupted, .progress-bar-interrupted::-webkit-progress-bar {\n",
       "        background: #F44336;\n",
       "    }\n",
       "</style>\n"
      ],
      "text/plain": [
       "<IPython.core.display.HTML object>"
      ]
     },
     "metadata": {},
     "output_type": "display_data"
    },
    {
     "data": {
      "text/html": [
       "<table border=\"1\" class=\"dataframe\">\n",
       "  <thead>\n",
       "    <tr style=\"text-align: left;\">\n",
       "      <th>epoch</th>\n",
       "      <th>train_loss</th>\n",
       "      <th>valid_loss</th>\n",
       "      <th>mse</th>\n",
       "      <th>time</th>\n",
       "    </tr>\n",
       "  </thead>\n",
       "  <tbody>\n",
       "    <tr>\n",
       "      <td>0</td>\n",
       "      <td>0.026448</td>\n",
       "      <td>0.010492</td>\n",
       "      <td>0.010492</td>\n",
       "      <td>00:46</td>\n",
       "    </tr>\n",
       "    <tr>\n",
       "      <td>1</td>\n",
       "      <td>0.027051</td>\n",
       "      <td>0.008045</td>\n",
       "      <td>0.008045</td>\n",
       "      <td>00:45</td>\n",
       "    </tr>\n",
       "    <tr>\n",
       "      <td>2</td>\n",
       "      <td>0.016242</td>\n",
       "      <td>0.006868</td>\n",
       "      <td>0.006868</td>\n",
       "      <td>00:47</td>\n",
       "    </tr>\n",
       "  </tbody>\n",
       "</table>"
      ],
      "text/plain": [
       "<IPython.core.display.HTML object>"
      ]
     },
     "metadata": {},
     "output_type": "display_data"
    }
   ],
   "source": [
    "learn.fit_one_cycle(3, 0.0025)"
   ]
  },
  {
   "cell_type": "code",
   "execution_count": 22,
   "metadata": {},
   "outputs": [
    {
     "data": {
      "text/html": [
       "\n",
       "<style>\n",
       "    /* Turns off some styling */\n",
       "    progress {\n",
       "        /* gets rid of default border in Firefox and Opera. */\n",
       "        border: none;\n",
       "        /* Needs to be in here for Safari polyfill so background images work as expected. */\n",
       "        background-size: auto;\n",
       "    }\n",
       "    progress:not([value]), progress:not([value])::-webkit-progress-bar {\n",
       "        background: repeating-linear-gradient(45deg, #7e7e7e, #7e7e7e 10px, #5c5c5c 10px, #5c5c5c 20px);\n",
       "    }\n",
       "    .progress-bar-interrupted, .progress-bar-interrupted::-webkit-progress-bar {\n",
       "        background: #F44336;\n",
       "    }\n",
       "</style>\n"
      ],
      "text/plain": [
       "<IPython.core.display.HTML object>"
      ]
     },
     "metadata": {},
     "output_type": "display_data"
    },
    {
     "data": {
      "text/html": [],
      "text/plain": [
       "<IPython.core.display.HTML object>"
      ]
     },
     "metadata": {},
     "output_type": "display_data"
    },
    {
     "data": {
      "text/html": [
       "<table border=\"1\" class=\"dataframe\">\n",
       "  <thead>\n",
       "    <tr style=\"text-align: right;\">\n",
       "      <th></th>\n",
       "      <th>Sex</th>\n",
       "      <th>Age_Group</th>\n",
       "      <th>HR_Zone</th>\n",
       "      <th>BMI</th>\n",
       "      <th>Intensity</th>\n",
       "      <th>Age</th>\n",
       "      <th>Height</th>\n",
       "      <th>Weight</th>\n",
       "      <th>Duration</th>\n",
       "      <th>Heart_Rate</th>\n",
       "      <th>Body_Temp</th>\n",
       "      <th>Temp_Above_Normal</th>\n",
       "      <th>Age_x_Height</th>\n",
       "      <th>Age_x_Weight</th>\n",
       "      <th>Age_x_Duration</th>\n",
       "      <th>Age_x_Heart_Rate</th>\n",
       "      <th>Age_x_Body_Temp</th>\n",
       "      <th>Height_x_Weight</th>\n",
       "      <th>Height_x_Duration</th>\n",
       "      <th>Height_x_Heart_Rate</th>\n",
       "      <th>Height_x_Body_Temp</th>\n",
       "      <th>Weight_x_Duration</th>\n",
       "      <th>Weight_x_Heart_Rate</th>\n",
       "      <th>Weight_x_Body_Temp</th>\n",
       "      <th>Duration_x_Heart_Rate</th>\n",
       "      <th>Duration_x_Body_Temp</th>\n",
       "      <th>Heart_Rate_x_Body_Temp</th>\n",
       "      <th>y_train</th>\n",
       "      <th>y_train_pred</th>\n",
       "    </tr>\n",
       "  </thead>\n",
       "  <tbody>\n",
       "    <tr>\n",
       "      <th>0</th>\n",
       "      <td>1.00</td>\n",
       "      <td>2.00</td>\n",
       "      <td>3.00</td>\n",
       "      <td>-1.25</td>\n",
       "      <td>0.47</td>\n",
       "      <td>-1.08</td>\n",
       "      <td>-0.37</td>\n",
       "      <td>-0.73</td>\n",
       "      <td>0.55</td>\n",
       "      <td>0.37</td>\n",
       "      <td>0.46</td>\n",
       "      <td>0.47</td>\n",
       "      <td>-1.10</td>\n",
       "      <td>-1.13</td>\n",
       "      <td>-0.32</td>\n",
       "      <td>-0.97</td>\n",
       "      <td>-1.06</td>\n",
       "      <td>-0.66</td>\n",
       "      <td>0.48</td>\n",
       "      <td>0.07</td>\n",
       "      <td>-0.24</td>\n",
       "      <td>0.21</td>\n",
       "      <td>-0.49</td>\n",
       "      <td>-0.68</td>\n",
       "      <td>0.47</td>\n",
       "      <td>0.54</td>\n",
       "      <td>0.39</td>\n",
       "      <td>4.63</td>\n",
       "      <td>4.62</td>\n",
       "    </tr>\n",
       "    <tr>\n",
       "      <th>1</th>\n",
       "      <td>2.00</td>\n",
       "      <td>5.00</td>\n",
       "      <td>3.00</td>\n",
       "      <td>1.19</td>\n",
       "      <td>1.50</td>\n",
       "      <td>1.69</td>\n",
       "      <td>0.18</td>\n",
       "      <td>0.49</td>\n",
       "      <td>1.51</td>\n",
       "      <td>1.01</td>\n",
       "      <td>1.11</td>\n",
       "      <td>1.11</td>\n",
       "      <td>1.70</td>\n",
       "      <td>1.77</td>\n",
       "      <td>2.79</td>\n",
       "      <td>2.03</td>\n",
       "      <td>1.78</td>\n",
       "      <td>0.36</td>\n",
       "      <td>1.54</td>\n",
       "      <td>0.93</td>\n",
       "      <td>0.47</td>\n",
       "      <td>1.69</td>\n",
       "      <td>0.95</td>\n",
       "      <td>0.62</td>\n",
       "      <td>1.50</td>\n",
       "      <td>1.52</td>\n",
       "      <td>1.06</td>\n",
       "      <td>5.35</td>\n",
       "      <td>5.31</td>\n",
       "    </tr>\n",
       "    <tr>\n",
       "      <th>2</th>\n",
       "      <td>2.00</td>\n",
       "      <td>4.00</td>\n",
       "      <td>2.00</td>\n",
       "      <td>1.63</td>\n",
       "      <td>-1.00</td>\n",
       "      <td>0.83</td>\n",
       "      <td>1.51</td>\n",
       "      <td>1.85</td>\n",
       "      <td>-1.01</td>\n",
       "      <td>-0.90</td>\n",
       "      <td>-0.69</td>\n",
       "      <td>-0.69</td>\n",
       "      <td>1.19</td>\n",
       "      <td>1.74</td>\n",
       "      <td>-0.59</td>\n",
       "      <td>0.49</td>\n",
       "      <td>0.78</td>\n",
       "      <td>1.85</td>\n",
       "      <td>-0.91</td>\n",
       "      <td>0.10</td>\n",
       "      <td>1.27</td>\n",
       "      <td>-0.67</td>\n",
       "      <td>1.06</td>\n",
       "      <td>1.75</td>\n",
       "      <td>-1.00</td>\n",
       "      <td>-1.01</td>\n",
       "      <td>-0.90</td>\n",
       "      <td>3.50</td>\n",
       "      <td>3.52</td>\n",
       "    </tr>\n",
       "    <tr>\n",
       "      <th>3</th>\n",
       "      <td>1.00</td>\n",
       "      <td>3.00</td>\n",
       "      <td>2.00</td>\n",
       "      <td>-0.88</td>\n",
       "      <td>-1.39</td>\n",
       "      <td>-0.09</td>\n",
       "      <td>-1.15</td>\n",
       "      <td>-1.15</td>\n",
       "      <td>-1.49</td>\n",
       "      <td>-1.43</td>\n",
       "      <td>-2.35</td>\n",
       "      <td>-2.36</td>\n",
       "      <td>-0.31</td>\n",
       "      <td>-0.58</td>\n",
       "      <td>-1.18</td>\n",
       "      <td>-0.45</td>\n",
       "      <td>-0.21</td>\n",
       "      <td>-1.13</td>\n",
       "      <td>-1.50</td>\n",
       "      <td>-1.74</td>\n",
       "      <td>-1.67</td>\n",
       "      <td>-1.46</td>\n",
       "      <td>-1.54</td>\n",
       "      <td>-1.34</td>\n",
       "      <td>-1.39</td>\n",
       "      <td>-1.48</td>\n",
       "      <td>-1.59</td>\n",
       "      <td>2.48</td>\n",
       "      <td>2.56</td>\n",
       "    </tr>\n",
       "    <tr>\n",
       "      <th>4</th>\n",
       "      <td>2.00</td>\n",
       "      <td>4.00</td>\n",
       "      <td>3.00</td>\n",
       "      <td>-0.61</td>\n",
       "      <td>-0.37</td>\n",
       "      <td>1.49</td>\n",
       "      <td>0.96</td>\n",
       "      <td>0.49</td>\n",
       "      <td>-0.29</td>\n",
       "      <td>-0.37</td>\n",
       "      <td>0.08</td>\n",
       "      <td>0.08</td>\n",
       "      <td>1.75</td>\n",
       "      <td>1.59</td>\n",
       "      <td>0.43</td>\n",
       "      <td>1.27</td>\n",
       "      <td>1.49</td>\n",
       "      <td>0.60</td>\n",
       "      <td>-0.18</td>\n",
       "      <td>0.26</td>\n",
       "      <td>0.96</td>\n",
       "      <td>-0.14</td>\n",
       "      <td>0.24</td>\n",
       "      <td>0.50</td>\n",
       "      <td>-0.37</td>\n",
       "      <td>-0.30</td>\n",
       "      <td>-0.32</td>\n",
       "      <td>4.32</td>\n",
       "      <td>4.25</td>\n",
       "    </tr>\n",
       "    <tr>\n",
       "      <th>5</th>\n",
       "      <td>1.00</td>\n",
       "      <td>2.00</td>\n",
       "      <td>3.00</td>\n",
       "      <td>0.36</td>\n",
       "      <td>0.86</td>\n",
       "      <td>-1.35</td>\n",
       "      <td>-0.83</td>\n",
       "      <td>-0.58</td>\n",
       "      <td>0.91</td>\n",
       "      <td>0.69</td>\n",
       "      <td>0.85</td>\n",
       "      <td>0.85</td>\n",
       "      <td>-1.40</td>\n",
       "      <td>-1.29</td>\n",
       "      <td>-0.36</td>\n",
       "      <td>-1.19</td>\n",
       "      <td>-1.32</td>\n",
       "      <td>-0.68</td>\n",
       "      <td>0.73</td>\n",
       "      <td>0.02</td>\n",
       "      <td>-0.61</td>\n",
       "      <td>0.57</td>\n",
       "      <td>-0.22</td>\n",
       "      <td>-0.50</td>\n",
       "      <td>0.86</td>\n",
       "      <td>0.91</td>\n",
       "      <td>0.74</td>\n",
       "      <td>4.83</td>\n",
       "      <td>4.79</td>\n",
       "    </tr>\n",
       "    <tr>\n",
       "      <th>6</th>\n",
       "      <td>2.00</td>\n",
       "      <td>1.00</td>\n",
       "      <td>3.00</td>\n",
       "      <td>0.04</td>\n",
       "      <td>1.10</td>\n",
       "      <td>-1.41</td>\n",
       "      <td>-0.05</td>\n",
       "      <td>-0.08</td>\n",
       "      <td>1.03</td>\n",
       "      <td>1.22</td>\n",
       "      <td>0.98</td>\n",
       "      <td>0.98</td>\n",
       "      <td>-1.39</td>\n",
       "      <td>-1.24</td>\n",
       "      <td>-0.36</td>\n",
       "      <td>-1.20</td>\n",
       "      <td>-1.38</td>\n",
       "      <td>-0.12</td>\n",
       "      <td>1.01</td>\n",
       "      <td>0.95</td>\n",
       "      <td>0.20</td>\n",
       "      <td>0.92</td>\n",
       "      <td>0.49</td>\n",
       "      <td>0.02</td>\n",
       "      <td>1.10</td>\n",
       "      <td>1.03</td>\n",
       "      <td>1.23</td>\n",
       "      <td>4.92</td>\n",
       "      <td>4.84</td>\n",
       "    </tr>\n",
       "    <tr>\n",
       "      <th>7</th>\n",
       "      <td>1.00</td>\n",
       "      <td>3.00</td>\n",
       "      <td>3.00</td>\n",
       "      <td>-0.64</td>\n",
       "      <td>1.30</td>\n",
       "      <td>0.24</td>\n",
       "      <td>0.34</td>\n",
       "      <td>-0.01</td>\n",
       "      <td>1.27</td>\n",
       "      <td>1.11</td>\n",
       "      <td>1.49</td>\n",
       "      <td>1.49</td>\n",
       "      <td>0.30</td>\n",
       "      <td>0.19</td>\n",
       "      <td>1.20</td>\n",
       "      <td>0.54</td>\n",
       "      <td>0.32</td>\n",
       "      <td>0.04</td>\n",
       "      <td>1.33</td>\n",
       "      <td>1.12</td>\n",
       "      <td>0.72</td>\n",
       "      <td>1.18</td>\n",
       "      <td>0.51</td>\n",
       "      <td>0.15</td>\n",
       "      <td>1.30</td>\n",
       "      <td>1.30</td>\n",
       "      <td>1.23</td>\n",
       "      <td>5.12</td>\n",
       "      <td>5.02</td>\n",
       "    </tr>\n",
       "    <tr>\n",
       "      <th>8</th>\n",
       "      <td>2.00</td>\n",
       "      <td>5.00</td>\n",
       "      <td>3.00</td>\n",
       "      <td>0.31</td>\n",
       "      <td>1.72</td>\n",
       "      <td>1.88</td>\n",
       "      <td>0.80</td>\n",
       "      <td>0.71</td>\n",
       "      <td>1.74</td>\n",
       "      <td>1.01</td>\n",
       "      <td>1.36</td>\n",
       "      <td>1.36</td>\n",
       "      <td>2.11</td>\n",
       "      <td>2.12</td>\n",
       "      <td>3.30</td>\n",
       "      <td>2.23</td>\n",
       "      <td>2.00</td>\n",
       "      <td>0.71</td>\n",
       "      <td>1.94</td>\n",
       "      <td>1.34</td>\n",
       "      <td>1.16</td>\n",
       "      <td>2.07</td>\n",
       "      <td>1.15</td>\n",
       "      <td>0.86</td>\n",
       "      <td>1.72</td>\n",
       "      <td>1.77</td>\n",
       "      <td>1.11</td>\n",
       "      <td>5.51</td>\n",
       "      <td>5.40</td>\n",
       "    </tr>\n",
       "  </tbody>\n",
       "</table>"
      ],
      "text/plain": [
       "<IPython.core.display.HTML object>"
      ]
     },
     "metadata": {},
     "output_type": "display_data"
    }
   ],
   "source": [
    "learn.show_results()"
   ]
  },
  {
   "cell_type": "code",
   "execution_count": 23,
   "metadata": {},
   "outputs": [
    {
     "data": {
      "text/html": [
       "\n",
       "<style>\n",
       "    /* Turns off some styling */\n",
       "    progress {\n",
       "        /* gets rid of default border in Firefox and Opera. */\n",
       "        border: none;\n",
       "        /* Needs to be in here for Safari polyfill so background images work as expected. */\n",
       "        background-size: auto;\n",
       "    }\n",
       "    progress:not([value]), progress:not([value])::-webkit-progress-bar {\n",
       "        background: repeating-linear-gradient(45deg, #7e7e7e, #7e7e7e 10px, #5c5c5c 10px, #5c5c5c 20px);\n",
       "    }\n",
       "    .progress-bar-interrupted, .progress-bar-interrupted::-webkit-progress-bar {\n",
       "        background: #F44336;\n",
       "    }\n",
       "</style>\n"
      ],
      "text/plain": [
       "<IPython.core.display.HTML object>"
      ]
     },
     "metadata": {},
     "output_type": "display_data"
    },
    {
     "data": {
      "text/html": [],
      "text/plain": [
       "<IPython.core.display.HTML object>"
      ]
     },
     "metadata": {},
     "output_type": "display_data"
    }
   ],
   "source": [
    "preds_train, targets_train = learn.get_preds(dl=dls.train)"
   ]
  },
  {
   "cell_type": "code",
   "execution_count": 24,
   "metadata": {},
   "outputs": [
    {
     "name": "stdout",
     "output_type": "stream",
     "text": [
      "Predicted: 1.386294, Actual: 1.386294\n",
      "Predicted: 4.110874, Actual: 4.110874\n",
      "Predicted: 5.267858, Actual: 5.267858\n",
      "Predicted: 4.356709, Actual: 4.356709\n",
      "Predicted: 5.056246, Actual: 5.056246\n",
      "Predicted: 4.488636, Actual: 4.488636\n",
      "Predicted: 3.295837, Actual: 3.295837\n",
      "Predicted: 4.418840, Actual: 4.418840\n",
      "Predicted: 3.850147, Actual: 3.850147\n",
      "Predicted: 3.367296, Actual: 3.367296\n",
      "Predicted: 5.192957, Actual: 5.192957\n",
      "Predicted: 4.110874, Actual: 4.110874\n",
      "Predicted: 4.672829, Actual: 4.672829\n",
      "Predicted: 4.382027, Actual: 4.382027\n",
      "Predicted: 4.007333, Actual: 4.007333\n"
     ]
    }
   ],
   "source": [
    "for i in range(15):\n",
    "    row = dls.valid_ds.items.iloc[i].copy()  # make an explicit copy\n",
    "    pred_val = preds_train[i].item()\n",
    "    row['Calories'] = pred_val\n",
    "    decoded_row = dls.train.decode_row(row)\n",
    "    \n",
    "    actual_row = dls.train.decode_row(dls.valid_ds.items.iloc[i])\n",
    "    print(f\"Predicted: {decoded_row['y_train']:.6f}, Actual: {actual_row['y_train']:.6f}\")\n"
   ]
  },
  {
   "cell_type": "code",
   "execution_count": 25,
   "metadata": {},
   "outputs": [],
   "source": [
    "test_df = test.copy()"
   ]
  },
  {
   "cell_type": "code",
   "execution_count": 26,
   "metadata": {},
   "outputs": [],
   "source": [
    "test_df = create_predictor_features(test_df)\n",
    "test_df = add_feature_cross_terms(test_df, numerical_features)"
   ]
  },
  {
   "cell_type": "code",
   "execution_count": 27,
   "metadata": {},
   "outputs": [],
   "source": [
    "dl = learn.dls.test_dl(test_df)"
   ]
  },
  {
   "cell_type": "code",
   "execution_count": 28,
   "metadata": {},
   "outputs": [
    {
     "data": {
      "text/html": [
       "\n",
       "<style>\n",
       "    /* Turns off some styling */\n",
       "    progress {\n",
       "        /* gets rid of default border in Firefox and Opera. */\n",
       "        border: none;\n",
       "        /* Needs to be in here for Safari polyfill so background images work as expected. */\n",
       "        background-size: auto;\n",
       "    }\n",
       "    progress:not([value]), progress:not([value])::-webkit-progress-bar {\n",
       "        background: repeating-linear-gradient(45deg, #7e7e7e, #7e7e7e 10px, #5c5c5c 10px, #5c5c5c 20px);\n",
       "    }\n",
       "    .progress-bar-interrupted, .progress-bar-interrupted::-webkit-progress-bar {\n",
       "        background: #F44336;\n",
       "    }\n",
       "</style>\n"
      ],
      "text/plain": [
       "<IPython.core.display.HTML object>"
      ]
     },
     "metadata": {},
     "output_type": "display_data"
    },
    {
     "data": {
      "text/html": [],
      "text/plain": [
       "<IPython.core.display.HTML object>"
      ]
     },
     "metadata": {},
     "output_type": "display_data"
    }
   ],
   "source": [
    "preds = learn.get_preds(dl=dl)"
   ]
  },
  {
   "cell_type": "code",
   "execution_count": 29,
   "metadata": {},
   "outputs": [
    {
     "data": {
      "text/plain": [
       "(tensor(1.0727), tensor(292.3135))"
      ]
     },
     "execution_count": 29,
     "metadata": {},
     "output_type": "execute_result"
    }
   ],
   "source": [
    "final_preds = np.expm1(preds[0])\n",
    "final_preds.min(), final_preds.max()"
   ]
  },
  {
   "cell_type": "code",
   "execution_count": 30,
   "metadata": {},
   "outputs": [
    {
     "data": {
      "text/plain": [
       "(tensor(1.0727), tensor(292.3135))"
      ]
     },
     "execution_count": 30,
     "metadata": {},
     "output_type": "execute_result"
    }
   ],
   "source": [
    "final_preds = np.clip(final_preds, df_train[\"Calories\"].min(), df_train[\"Calories\"].max())  \n",
    "\n",
    "final_preds.min(), final_preds.max()"
   ]
  },
  {
   "cell_type": "code",
   "execution_count": 31,
   "metadata": {},
   "outputs": [],
   "source": [
    "test_df['Calories'] = final_preds\n",
    "sub_df = test_df[['id','Calories']]"
   ]
  },
  {
   "cell_type": "code",
   "execution_count": 32,
   "metadata": {},
   "outputs": [
    {
     "data": {
      "text/plain": [
       "0         28.09\n",
       "1        103.41\n",
       "2         82.09\n",
       "3        119.19\n",
       "4         73.37\n",
       "          ...  \n",
       "249995    26.87\n",
       "249996     9.86\n",
       "249997    71.24\n",
       "249998   157.08\n",
       "249999    74.55\n",
       "Name: Calories, Length: 250000, dtype: float32"
      ]
     },
     "execution_count": 32,
     "metadata": {},
     "output_type": "execute_result"
    }
   ],
   "source": [
    "test_df['Calories'] "
   ]
  },
  {
   "cell_type": "code",
   "execution_count": 33,
   "metadata": {},
   "outputs": [],
   "source": [
    "sub_df.to_csv('subm.csv', index=False)"
   ]
  },
  {
   "cell_type": "markdown",
   "metadata": {},
   "source": [
    "# Ensembling"
   ]
  },
  {
   "cell_type": "markdown",
   "metadata": {},
   "source": [
    "We can create five separate models, each trained from different random starting points, and average them. This is the simplest approach of ensembling models, which combines multiple models to generate predictions that are better than any of the single models in the ensemble."
   ]
  },
  {
   "cell_type": "code",
   "execution_count": 36,
   "metadata": {},
   "outputs": [],
   "source": [
    "def ensemble():\n",
    "    learn = tabular_learner(dls, metrics=mse, layers=[100, 200, 100])\n",
    "    with learn.no_bar(),learn.no_logging(): learn.fit_one_cycle(3, 0.0025)\n",
    "    print(\"---------------------ensemble---------------------\")\n",
    "    return learn.get_preds(dl=dl)[0]"
   ]
  },
  {
   "cell_type": "markdown",
   "metadata": {},
   "source": [
    "Now we run this five times, and collect the results into a list:"
   ]
  },
  {
   "cell_type": "code",
   "execution_count": 37,
   "metadata": {},
   "outputs": [
    {
     "name": "stdout",
     "output_type": "stream",
     "text": [
      "---------------------ensemble---------------------\n"
     ]
    },
    {
     "data": {
      "text/html": [
       "\n",
       "<style>\n",
       "    /* Turns off some styling */\n",
       "    progress {\n",
       "        /* gets rid of default border in Firefox and Opera. */\n",
       "        border: none;\n",
       "        /* Needs to be in here for Safari polyfill so background images work as expected. */\n",
       "        background-size: auto;\n",
       "    }\n",
       "    progress:not([value]), progress:not([value])::-webkit-progress-bar {\n",
       "        background: repeating-linear-gradient(45deg, #7e7e7e, #7e7e7e 10px, #5c5c5c 10px, #5c5c5c 20px);\n",
       "    }\n",
       "    .progress-bar-interrupted, .progress-bar-interrupted::-webkit-progress-bar {\n",
       "        background: #F44336;\n",
       "    }\n",
       "</style>\n"
      ],
      "text/plain": [
       "<IPython.core.display.HTML object>"
      ]
     },
     "metadata": {},
     "output_type": "display_data"
    },
    {
     "data": {
      "text/html": [],
      "text/plain": [
       "<IPython.core.display.HTML object>"
      ]
     },
     "metadata": {},
     "output_type": "display_data"
    },
    {
     "name": "stdout",
     "output_type": "stream",
     "text": [
      "---------------------ensemble---------------------\n"
     ]
    },
    {
     "data": {
      "text/html": [
       "\n",
       "<style>\n",
       "    /* Turns off some styling */\n",
       "    progress {\n",
       "        /* gets rid of default border in Firefox and Opera. */\n",
       "        border: none;\n",
       "        /* Needs to be in here for Safari polyfill so background images work as expected. */\n",
       "        background-size: auto;\n",
       "    }\n",
       "    progress:not([value]), progress:not([value])::-webkit-progress-bar {\n",
       "        background: repeating-linear-gradient(45deg, #7e7e7e, #7e7e7e 10px, #5c5c5c 10px, #5c5c5c 20px);\n",
       "    }\n",
       "    .progress-bar-interrupted, .progress-bar-interrupted::-webkit-progress-bar {\n",
       "        background: #F44336;\n",
       "    }\n",
       "</style>\n"
      ],
      "text/plain": [
       "<IPython.core.display.HTML object>"
      ]
     },
     "metadata": {},
     "output_type": "display_data"
    },
    {
     "data": {
      "text/html": [],
      "text/plain": [
       "<IPython.core.display.HTML object>"
      ]
     },
     "metadata": {},
     "output_type": "display_data"
    },
    {
     "name": "stdout",
     "output_type": "stream",
     "text": [
      "---------------------ensemble---------------------\n"
     ]
    },
    {
     "data": {
      "text/html": [
       "\n",
       "<style>\n",
       "    /* Turns off some styling */\n",
       "    progress {\n",
       "        /* gets rid of default border in Firefox and Opera. */\n",
       "        border: none;\n",
       "        /* Needs to be in here for Safari polyfill so background images work as expected. */\n",
       "        background-size: auto;\n",
       "    }\n",
       "    progress:not([value]), progress:not([value])::-webkit-progress-bar {\n",
       "        background: repeating-linear-gradient(45deg, #7e7e7e, #7e7e7e 10px, #5c5c5c 10px, #5c5c5c 20px);\n",
       "    }\n",
       "    .progress-bar-interrupted, .progress-bar-interrupted::-webkit-progress-bar {\n",
       "        background: #F44336;\n",
       "    }\n",
       "</style>\n"
      ],
      "text/plain": [
       "<IPython.core.display.HTML object>"
      ]
     },
     "metadata": {},
     "output_type": "display_data"
    },
    {
     "data": {
      "text/html": [],
      "text/plain": [
       "<IPython.core.display.HTML object>"
      ]
     },
     "metadata": {},
     "output_type": "display_data"
    },
    {
     "name": "stdout",
     "output_type": "stream",
     "text": [
      "---------------------ensemble---------------------\n"
     ]
    },
    {
     "data": {
      "text/html": [
       "\n",
       "<style>\n",
       "    /* Turns off some styling */\n",
       "    progress {\n",
       "        /* gets rid of default border in Firefox and Opera. */\n",
       "        border: none;\n",
       "        /* Needs to be in here for Safari polyfill so background images work as expected. */\n",
       "        background-size: auto;\n",
       "    }\n",
       "    progress:not([value]), progress:not([value])::-webkit-progress-bar {\n",
       "        background: repeating-linear-gradient(45deg, #7e7e7e, #7e7e7e 10px, #5c5c5c 10px, #5c5c5c 20px);\n",
       "    }\n",
       "    .progress-bar-interrupted, .progress-bar-interrupted::-webkit-progress-bar {\n",
       "        background: #F44336;\n",
       "    }\n",
       "</style>\n"
      ],
      "text/plain": [
       "<IPython.core.display.HTML object>"
      ]
     },
     "metadata": {},
     "output_type": "display_data"
    },
    {
     "data": {
      "text/html": [],
      "text/plain": [
       "<IPython.core.display.HTML object>"
      ]
     },
     "metadata": {},
     "output_type": "display_data"
    },
    {
     "name": "stdout",
     "output_type": "stream",
     "text": [
      "---------------------ensemble---------------------\n"
     ]
    },
    {
     "data": {
      "text/html": [
       "\n",
       "<style>\n",
       "    /* Turns off some styling */\n",
       "    progress {\n",
       "        /* gets rid of default border in Firefox and Opera. */\n",
       "        border: none;\n",
       "        /* Needs to be in here for Safari polyfill so background images work as expected. */\n",
       "        background-size: auto;\n",
       "    }\n",
       "    progress:not([value]), progress:not([value])::-webkit-progress-bar {\n",
       "        background: repeating-linear-gradient(45deg, #7e7e7e, #7e7e7e 10px, #5c5c5c 10px, #5c5c5c 20px);\n",
       "    }\n",
       "    .progress-bar-interrupted, .progress-bar-interrupted::-webkit-progress-bar {\n",
       "        background: #F44336;\n",
       "    }\n",
       "</style>\n"
      ],
      "text/plain": [
       "<IPython.core.display.HTML object>"
      ]
     },
     "metadata": {},
     "output_type": "display_data"
    },
    {
     "data": {
      "text/html": [],
      "text/plain": [
       "<IPython.core.display.HTML object>"
      ]
     },
     "metadata": {},
     "output_type": "display_data"
    }
   ],
   "source": [
    "learns = [ensemble() for _ in range(5)]"
   ]
  },
  {
   "cell_type": "markdown",
   "metadata": {},
   "source": [
    "We stack this predictions together and take their average predictions:"
   ]
  },
  {
   "cell_type": "code",
   "execution_count": 38,
   "metadata": {},
   "outputs": [],
   "source": [
    "ens_preds = torch.stack(learns).mean(0)"
   ]
  },
  {
   "cell_type": "code",
   "execution_count": 40,
   "metadata": {},
   "outputs": [
    {
     "data": {
      "text/plain": [
       "(tensor(1.1106), tensor(289.5667))"
      ]
     },
     "execution_count": 40,
     "metadata": {},
     "output_type": "execute_result"
    }
   ],
   "source": [
    "final_ens_preds = np.expm1(ens_preds)\n",
    "final_ens_preds.min(), final_ens_preds.max()"
   ]
  },
  {
   "cell_type": "code",
   "execution_count": 39,
   "metadata": {},
   "outputs": [
    {
     "data": {
      "text/plain": [
       "tensor([[3.3517],\n",
       "        [4.6343],\n",
       "        [4.4227],\n",
       "        ...,\n",
       "        [4.2637],\n",
       "        [5.0617],\n",
       "        [4.3072]])"
      ]
     },
     "execution_count": 39,
     "metadata": {},
     "output_type": "execute_result"
    }
   ],
   "source": [
    "ens_preds"
   ]
  },
  {
   "cell_type": "code",
   "execution_count": 41,
   "metadata": {},
   "outputs": [
    {
     "data": {
      "text/plain": [
       "(tensor(1.1106), tensor(289.5667))"
      ]
     },
     "execution_count": 41,
     "metadata": {},
     "output_type": "execute_result"
    }
   ],
   "source": [
    "final_ens_preds = np.clip(final_ens_preds, df_train[\"Calories\"].min(), df_train[\"Calories\"].max())  \n",
    "\n",
    "final_ens_preds.min(), final_ens_preds.max()"
   ]
  },
  {
   "cell_type": "code",
   "execution_count": 43,
   "metadata": {},
   "outputs": [
    {
     "data": {
      "text/plain": [
       "0         27.55\n",
       "1        101.95\n",
       "2         82.32\n",
       "3        117.84\n",
       "4         72.79\n",
       "          ...  \n",
       "249995    26.55\n",
       "249996    10.04\n",
       "249997    70.07\n",
       "249998   156.86\n",
       "249999    73.23\n",
       "Name: Calories, Length: 250000, dtype: float32"
      ]
     },
     "execution_count": 43,
     "metadata": {},
     "output_type": "execute_result"
    }
   ],
   "source": [
    "test_df['Calories'] = final_ens_preds\n",
    "sub_df = test_df[['id','Calories']]\n",
    "test_df['Calories'] "
   ]
  },
  {
   "cell_type": "code",
   "execution_count": 44,
   "metadata": {},
   "outputs": [],
   "source": [
    "sub_df.to_csv('ensemble.csv', index=False)"
   ]
  },
  {
   "cell_type": "markdown",
   "metadata": {},
   "source": [
    "Public Score: 0.0693 "
   ]
  }
 ],
 "metadata": {
  "kaggle": {
   "accelerator": "none",
   "dataSources": [
    {
     "databundleVersionId": 11893428,
     "sourceId": 91716,
     "sourceType": "competition"
    }
   ],
   "dockerImageVersionId": 31012,
   "isGpuEnabled": false,
   "isInternetEnabled": true,
   "language": "python",
   "sourceType": "notebook"
  },
  "kernelspec": {
   "display_name": "Python 3 (ipykernel)",
   "language": "python",
   "name": "python3"
  },
  "language_info": {
   "codemirror_mode": {
    "name": "ipython",
    "version": 3
   },
   "file_extension": ".py",
   "mimetype": "text/x-python",
   "name": "python",
   "nbconvert_exporter": "python",
   "pygments_lexer": "ipython3",
   "version": "3.12.3"
  }
 },
 "nbformat": 4,
 "nbformat_minor": 4
}
