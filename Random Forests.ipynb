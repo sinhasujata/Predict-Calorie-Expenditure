{
 "cells": [
  {
   "cell_type": "code",
   "execution_count": 1,
   "id": "843853e5-560b-4ecb-b4cc-4dd52da5c324",
   "metadata": {},
   "outputs": [],
   "source": [
    "from fastai.imports import *\n",
    "np.set_printoptions(linewidth=130)\n",
    "\n",
    "import pandas as pd\n",
    "import numpy as np\n",
    "import matplotlib.pyplot as plt\n",
    "import seaborn as sns\n",
    "import warnings"
   ]
  },
  {
   "cell_type": "code",
   "execution_count": 2,
   "id": "ce972977-ef41-4549-931a-cea2d0d30f3f",
   "metadata": {},
   "outputs": [],
   "source": [
    "train = pd.read_csv(\"playground-series-s5e5/train.csv\")\n",
    "test = pd.read_csv(\"playground-series-s5e5/test.csv\")"
   ]
  },
  {
   "cell_type": "markdown",
   "id": "71632d0f-c919-48cf-8cc1-db3c4fe95b5c",
   "metadata": {},
   "source": [
    "Adding original dataset for training. "
   ]
  },
  {
   "cell_type": "code",
   "execution_count": 3,
   "id": "c259b839-090e-40cb-8fa0-d35a8d6727fb",
   "metadata": {},
   "outputs": [],
   "source": [
    "train_extra = pd.read_csv(\"calories-burning-dataset/exercise.csv\")\n",
    "train_cal = pd.read_csv(\"calories-burning-dataset/calories.csv\")"
   ]
  },
  {
   "cell_type": "code",
   "execution_count": 4,
   "id": "e7d12dda-1f49-40b9-9e2d-02b0114ffade",
   "metadata": {},
   "outputs": [],
   "source": [
    "train.drop(columns=['id'], inplace=True)"
   ]
  },
  {
   "cell_type": "code",
   "execution_count": 5,
   "id": "bf6e4455-d6b8-430b-87b4-69053cd7c64d",
   "metadata": {},
   "outputs": [
    {
     "data": {
      "text/plain": [
       "((750000, 8), (15000, 8))"
      ]
     },
     "execution_count": 5,
     "metadata": {},
     "output_type": "execute_result"
    }
   ],
   "source": [
    "train.shape, train_extra.shape"
   ]
  },
  {
   "cell_type": "code",
   "execution_count": 6,
   "id": "62c50f94-219b-4be1-a9b2-9a51dba72567",
   "metadata": {},
   "outputs": [],
   "source": [
    "train_extra.drop(columns=['User_ID'], inplace=True)"
   ]
  },
  {
   "cell_type": "code",
   "execution_count": 7,
   "id": "042daa01-81be-4207-9fe7-e4762292abdb",
   "metadata": {},
   "outputs": [
    {
     "data": {
      "text/plain": [
       "(Index(['Gender', 'Age', 'Height', 'Weight', 'Duration', 'Heart_Rate',\n",
       "        'Body_Temp'],\n",
       "       dtype='object'),\n",
       " Index(['Sex', 'Age', 'Height', 'Weight', 'Duration', 'Heart_Rate', 'Body_Temp',\n",
       "        'Calories'],\n",
       "       dtype='object'))"
      ]
     },
     "execution_count": 7,
     "metadata": {},
     "output_type": "execute_result"
    }
   ],
   "source": [
    "train_extra.columns, train.columns"
   ]
  },
  {
   "cell_type": "code",
   "execution_count": 8,
   "id": "a47e0519-791d-46dd-b72d-c3e2d42d2902",
   "metadata": {},
   "outputs": [
    {
     "data": {
      "text/html": [
       "<div>\n",
       "<style scoped>\n",
       "    .dataframe tbody tr th:only-of-type {\n",
       "        vertical-align: middle;\n",
       "    }\n",
       "\n",
       "    .dataframe tbody tr th {\n",
       "        vertical-align: top;\n",
       "    }\n",
       "\n",
       "    .dataframe thead th {\n",
       "        text-align: right;\n",
       "    }\n",
       "</style>\n",
       "<table border=\"1\" class=\"dataframe\">\n",
       "  <thead>\n",
       "    <tr style=\"text-align: right;\">\n",
       "      <th></th>\n",
       "      <th>Gender</th>\n",
       "      <th>Age</th>\n",
       "      <th>Height</th>\n",
       "      <th>Weight</th>\n",
       "      <th>Duration</th>\n",
       "      <th>Heart_Rate</th>\n",
       "      <th>Body_Temp</th>\n",
       "    </tr>\n",
       "  </thead>\n",
       "  <tbody>\n",
       "    <tr>\n",
       "      <th>0</th>\n",
       "      <td>male</td>\n",
       "      <td>68</td>\n",
       "      <td>190.0</td>\n",
       "      <td>94.0</td>\n",
       "      <td>29.0</td>\n",
       "      <td>105.0</td>\n",
       "      <td>40.8</td>\n",
       "    </tr>\n",
       "    <tr>\n",
       "      <th>1</th>\n",
       "      <td>female</td>\n",
       "      <td>20</td>\n",
       "      <td>166.0</td>\n",
       "      <td>60.0</td>\n",
       "      <td>14.0</td>\n",
       "      <td>94.0</td>\n",
       "      <td>40.3</td>\n",
       "    </tr>\n",
       "    <tr>\n",
       "      <th>2</th>\n",
       "      <td>male</td>\n",
       "      <td>69</td>\n",
       "      <td>179.0</td>\n",
       "      <td>79.0</td>\n",
       "      <td>5.0</td>\n",
       "      <td>88.0</td>\n",
       "      <td>38.7</td>\n",
       "    </tr>\n",
       "    <tr>\n",
       "      <th>3</th>\n",
       "      <td>female</td>\n",
       "      <td>34</td>\n",
       "      <td>179.0</td>\n",
       "      <td>71.0</td>\n",
       "      <td>13.0</td>\n",
       "      <td>100.0</td>\n",
       "      <td>40.5</td>\n",
       "    </tr>\n",
       "    <tr>\n",
       "      <th>4</th>\n",
       "      <td>female</td>\n",
       "      <td>27</td>\n",
       "      <td>154.0</td>\n",
       "      <td>58.0</td>\n",
       "      <td>10.0</td>\n",
       "      <td>81.0</td>\n",
       "      <td>39.8</td>\n",
       "    </tr>\n",
       "  </tbody>\n",
       "</table>\n",
       "</div>"
      ],
      "text/plain": [
       "   Gender  Age  Height  Weight  Duration  Heart_Rate  Body_Temp\n",
       "0    male   68   190.0    94.0      29.0       105.0       40.8\n",
       "1  female   20   166.0    60.0      14.0        94.0       40.3\n",
       "2    male   69   179.0    79.0       5.0        88.0       38.7\n",
       "3  female   34   179.0    71.0      13.0       100.0       40.5\n",
       "4  female   27   154.0    58.0      10.0        81.0       39.8"
      ]
     },
     "execution_count": 8,
     "metadata": {},
     "output_type": "execute_result"
    }
   ],
   "source": [
    "train_extra.head()"
   ]
  },
  {
   "cell_type": "code",
   "execution_count": 9,
   "id": "7a37645e-b368-41ba-90d0-5e2ecd2042e8",
   "metadata": {},
   "outputs": [],
   "source": [
    "train_extra.rename(columns={'Gender': 'Sex'}, inplace=True)\n",
    "train_extra['Calories'] = train_cal['Calories'].values"
   ]
  },
  {
   "cell_type": "code",
   "execution_count": 10,
   "id": "43b893b7-cad6-4108-8c76-c8151ba4dc4b",
   "metadata": {},
   "outputs": [
    {
     "data": {
      "text/html": [
       "<div>\n",
       "<style scoped>\n",
       "    .dataframe tbody tr th:only-of-type {\n",
       "        vertical-align: middle;\n",
       "    }\n",
       "\n",
       "    .dataframe tbody tr th {\n",
       "        vertical-align: top;\n",
       "    }\n",
       "\n",
       "    .dataframe thead th {\n",
       "        text-align: right;\n",
       "    }\n",
       "</style>\n",
       "<table border=\"1\" class=\"dataframe\">\n",
       "  <thead>\n",
       "    <tr style=\"text-align: right;\">\n",
       "      <th></th>\n",
       "      <th>Sex</th>\n",
       "      <th>Age</th>\n",
       "      <th>Height</th>\n",
       "      <th>Weight</th>\n",
       "      <th>Duration</th>\n",
       "      <th>Heart_Rate</th>\n",
       "      <th>Body_Temp</th>\n",
       "      <th>Calories</th>\n",
       "    </tr>\n",
       "  </thead>\n",
       "  <tbody>\n",
       "    <tr>\n",
       "      <th>0</th>\n",
       "      <td>male</td>\n",
       "      <td>68</td>\n",
       "      <td>190.0</td>\n",
       "      <td>94.0</td>\n",
       "      <td>29.0</td>\n",
       "      <td>105.0</td>\n",
       "      <td>40.8</td>\n",
       "      <td>231.0</td>\n",
       "    </tr>\n",
       "    <tr>\n",
       "      <th>1</th>\n",
       "      <td>female</td>\n",
       "      <td>20</td>\n",
       "      <td>166.0</td>\n",
       "      <td>60.0</td>\n",
       "      <td>14.0</td>\n",
       "      <td>94.0</td>\n",
       "      <td>40.3</td>\n",
       "      <td>66.0</td>\n",
       "    </tr>\n",
       "    <tr>\n",
       "      <th>2</th>\n",
       "      <td>male</td>\n",
       "      <td>69</td>\n",
       "      <td>179.0</td>\n",
       "      <td>79.0</td>\n",
       "      <td>5.0</td>\n",
       "      <td>88.0</td>\n",
       "      <td>38.7</td>\n",
       "      <td>26.0</td>\n",
       "    </tr>\n",
       "    <tr>\n",
       "      <th>3</th>\n",
       "      <td>female</td>\n",
       "      <td>34</td>\n",
       "      <td>179.0</td>\n",
       "      <td>71.0</td>\n",
       "      <td>13.0</td>\n",
       "      <td>100.0</td>\n",
       "      <td>40.5</td>\n",
       "      <td>71.0</td>\n",
       "    </tr>\n",
       "    <tr>\n",
       "      <th>4</th>\n",
       "      <td>female</td>\n",
       "      <td>27</td>\n",
       "      <td>154.0</td>\n",
       "      <td>58.0</td>\n",
       "      <td>10.0</td>\n",
       "      <td>81.0</td>\n",
       "      <td>39.8</td>\n",
       "      <td>35.0</td>\n",
       "    </tr>\n",
       "  </tbody>\n",
       "</table>\n",
       "</div>"
      ],
      "text/plain": [
       "      Sex  Age  Height  Weight  Duration  Heart_Rate  Body_Temp  Calories\n",
       "0    male   68   190.0    94.0      29.0       105.0       40.8     231.0\n",
       "1  female   20   166.0    60.0      14.0        94.0       40.3      66.0\n",
       "2    male   69   179.0    79.0       5.0        88.0       38.7      26.0\n",
       "3  female   34   179.0    71.0      13.0       100.0       40.5      71.0\n",
       "4  female   27   154.0    58.0      10.0        81.0       39.8      35.0"
      ]
     },
     "execution_count": 10,
     "metadata": {},
     "output_type": "execute_result"
    }
   ],
   "source": [
    "train_extra.head()"
   ]
  },
  {
   "cell_type": "code",
   "execution_count": 11,
   "id": "13840168-6e4e-45c8-9d2e-e5ef8533b82b",
   "metadata": {},
   "outputs": [],
   "source": [
    "train_extra = train_extra[train.columns]  "
   ]
  },
  {
   "cell_type": "code",
   "execution_count": 12,
   "id": "677bd953-786c-4d97-9be3-1246dc733ed0",
   "metadata": {},
   "outputs": [],
   "source": [
    "df = pd.concat([train, train_extra], ignore_index=True)"
   ]
  },
  {
   "cell_type": "code",
   "execution_count": 13,
   "id": "a24da376-ebc2-4107-9ae6-a87c9b8f84fc",
   "metadata": {},
   "outputs": [
    {
     "data": {
      "text/plain": [
       "(765000, 8)"
      ]
     },
     "execution_count": 13,
     "metadata": {},
     "output_type": "execute_result"
    }
   ],
   "source": [
    "df.shape"
   ]
  },
  {
   "cell_type": "code",
   "execution_count": 14,
   "id": "90b769c6-d9f9-4dc2-96a3-8ed5d6bfa1b3",
   "metadata": {},
   "outputs": [
    {
     "data": {
      "text/plain": [
       "Sex           0\n",
       "Age           0\n",
       "Height        0\n",
       "Weight        0\n",
       "Duration      0\n",
       "Heart_Rate    0\n",
       "Body_Temp     0\n",
       "Calories      0\n",
       "dtype: int64"
      ]
     },
     "execution_count": 14,
     "metadata": {},
     "output_type": "execute_result"
    }
   ],
   "source": [
    "df.isna().sum()"
   ]
  },
  {
   "cell_type": "code",
   "execution_count": 15,
   "id": "8c1dd692-101a-4645-a020-659964718225",
   "metadata": {},
   "outputs": [
    {
     "data": {
      "text/plain": [
       "False    762107\n",
       "True       2893\n",
       "Name: count, dtype: int64"
      ]
     },
     "execution_count": 15,
     "metadata": {},
     "output_type": "execute_result"
    }
   ],
   "source": [
    "df.duplicated().value_counts()"
   ]
  },
  {
   "cell_type": "code",
   "execution_count": 16,
   "id": "f3149ad0-af57-4a0e-aa52-e3920f6778aa",
   "metadata": {},
   "outputs": [],
   "source": [
    "df = df[~df.duplicated()].reset_index(drop=True)"
   ]
  },
  {
   "cell_type": "code",
   "execution_count": 17,
   "id": "bbb96baa-1b93-4bd7-9b73-6ee03390a072",
   "metadata": {},
   "outputs": [
    {
     "data": {
      "text/html": [
       "<div>\n",
       "<style scoped>\n",
       "    .dataframe tbody tr th:only-of-type {\n",
       "        vertical-align: middle;\n",
       "    }\n",
       "\n",
       "    .dataframe tbody tr th {\n",
       "        vertical-align: top;\n",
       "    }\n",
       "\n",
       "    .dataframe thead th {\n",
       "        text-align: right;\n",
       "    }\n",
       "</style>\n",
       "<table border=\"1\" class=\"dataframe\">\n",
       "  <thead>\n",
       "    <tr style=\"text-align: right;\">\n",
       "      <th></th>\n",
       "      <th>Age</th>\n",
       "      <th>Height</th>\n",
       "      <th>Weight</th>\n",
       "      <th>Duration</th>\n",
       "      <th>Heart_Rate</th>\n",
       "      <th>Body_Temp</th>\n",
       "      <th>Calories</th>\n",
       "    </tr>\n",
       "  </thead>\n",
       "  <tbody>\n",
       "    <tr>\n",
       "      <th>count</th>\n",
       "      <td>762107.000000</td>\n",
       "      <td>762107.000000</td>\n",
       "      <td>762107.000000</td>\n",
       "      <td>762107.000000</td>\n",
       "      <td>762107.000000</td>\n",
       "      <td>762107.000000</td>\n",
       "      <td>762107.000000</td>\n",
       "    </tr>\n",
       "    <tr>\n",
       "      <th>mean</th>\n",
       "      <td>41.446593</td>\n",
       "      <td>174.690104</td>\n",
       "      <td>75.136995</td>\n",
       "      <td>15.435313</td>\n",
       "      <td>95.495988</td>\n",
       "      <td>40.037079</td>\n",
       "      <td>88.387137</td>\n",
       "    </tr>\n",
       "    <tr>\n",
       "      <th>std</th>\n",
       "      <td>15.221503</td>\n",
       "      <td>12.849988</td>\n",
       "      <td>13.998134</td>\n",
       "      <td>8.351997</td>\n",
       "      <td>9.453520</td>\n",
       "      <td>0.779234</td>\n",
       "      <td>62.397255</td>\n",
       "    </tr>\n",
       "    <tr>\n",
       "      <th>min</th>\n",
       "      <td>20.000000</td>\n",
       "      <td>123.000000</td>\n",
       "      <td>36.000000</td>\n",
       "      <td>1.000000</td>\n",
       "      <td>67.000000</td>\n",
       "      <td>37.100000</td>\n",
       "      <td>1.000000</td>\n",
       "    </tr>\n",
       "    <tr>\n",
       "      <th>25%</th>\n",
       "      <td>28.000000</td>\n",
       "      <td>164.000000</td>\n",
       "      <td>63.000000</td>\n",
       "      <td>8.000000</td>\n",
       "      <td>88.000000</td>\n",
       "      <td>39.600000</td>\n",
       "      <td>34.000000</td>\n",
       "    </tr>\n",
       "    <tr>\n",
       "      <th>50%</th>\n",
       "      <td>40.000000</td>\n",
       "      <td>174.000000</td>\n",
       "      <td>74.000000</td>\n",
       "      <td>15.000000</td>\n",
       "      <td>95.000000</td>\n",
       "      <td>40.300000</td>\n",
       "      <td>77.000000</td>\n",
       "    </tr>\n",
       "    <tr>\n",
       "      <th>75%</th>\n",
       "      <td>52.000000</td>\n",
       "      <td>185.000000</td>\n",
       "      <td>87.000000</td>\n",
       "      <td>23.000000</td>\n",
       "      <td>103.000000</td>\n",
       "      <td>40.700000</td>\n",
       "      <td>136.000000</td>\n",
       "    </tr>\n",
       "    <tr>\n",
       "      <th>max</th>\n",
       "      <td>79.000000</td>\n",
       "      <td>222.000000</td>\n",
       "      <td>132.000000</td>\n",
       "      <td>30.000000</td>\n",
       "      <td>128.000000</td>\n",
       "      <td>41.500000</td>\n",
       "      <td>314.000000</td>\n",
       "    </tr>\n",
       "  </tbody>\n",
       "</table>\n",
       "</div>"
      ],
      "text/plain": [
       "                 Age         Height         Weight       Duration  \\\n",
       "count  762107.000000  762107.000000  762107.000000  762107.000000   \n",
       "mean       41.446593     174.690104      75.136995      15.435313   \n",
       "std        15.221503      12.849988      13.998134       8.351997   \n",
       "min        20.000000     123.000000      36.000000       1.000000   \n",
       "25%        28.000000     164.000000      63.000000       8.000000   \n",
       "50%        40.000000     174.000000      74.000000      15.000000   \n",
       "75%        52.000000     185.000000      87.000000      23.000000   \n",
       "max        79.000000     222.000000     132.000000      30.000000   \n",
       "\n",
       "          Heart_Rate      Body_Temp       Calories  \n",
       "count  762107.000000  762107.000000  762107.000000  \n",
       "mean       95.495988      40.037079      88.387137  \n",
       "std         9.453520       0.779234      62.397255  \n",
       "min        67.000000      37.100000       1.000000  \n",
       "25%        88.000000      39.600000      34.000000  \n",
       "50%        95.000000      40.300000      77.000000  \n",
       "75%       103.000000      40.700000     136.000000  \n",
       "max       128.000000      41.500000     314.000000  "
      ]
     },
     "execution_count": 17,
     "metadata": {},
     "output_type": "execute_result"
    }
   ],
   "source": [
    "df.describe()"
   ]
  },
  {
   "cell_type": "code",
   "execution_count": 18,
   "id": "e72674c4-0ee8-41f0-80d6-292973e579bc",
   "metadata": {},
   "outputs": [
    {
     "data": {
      "text/html": [
       "<div>\n",
       "<style scoped>\n",
       "    .dataframe tbody tr th:only-of-type {\n",
       "        vertical-align: middle;\n",
       "    }\n",
       "\n",
       "    .dataframe tbody tr th {\n",
       "        vertical-align: top;\n",
       "    }\n",
       "\n",
       "    .dataframe thead th {\n",
       "        text-align: right;\n",
       "    }\n",
       "</style>\n",
       "<table border=\"1\" class=\"dataframe\">\n",
       "  <thead>\n",
       "    <tr style=\"text-align: right;\">\n",
       "      <th></th>\n",
       "      <th>Sex</th>\n",
       "      <th>Age</th>\n",
       "      <th>Height</th>\n",
       "      <th>Weight</th>\n",
       "      <th>Duration</th>\n",
       "      <th>Heart_Rate</th>\n",
       "      <th>Body_Temp</th>\n",
       "      <th>Calories</th>\n",
       "    </tr>\n",
       "  </thead>\n",
       "  <tbody>\n",
       "    <tr>\n",
       "      <th>0</th>\n",
       "      <td>male</td>\n",
       "      <td>36</td>\n",
       "      <td>189.0</td>\n",
       "      <td>82.0</td>\n",
       "      <td>26.0</td>\n",
       "      <td>101.0</td>\n",
       "      <td>41.0</td>\n",
       "      <td>150.0</td>\n",
       "    </tr>\n",
       "    <tr>\n",
       "      <th>1</th>\n",
       "      <td>female</td>\n",
       "      <td>64</td>\n",
       "      <td>163.0</td>\n",
       "      <td>60.0</td>\n",
       "      <td>8.0</td>\n",
       "      <td>85.0</td>\n",
       "      <td>39.7</td>\n",
       "      <td>34.0</td>\n",
       "    </tr>\n",
       "    <tr>\n",
       "      <th>2</th>\n",
       "      <td>female</td>\n",
       "      <td>51</td>\n",
       "      <td>161.0</td>\n",
       "      <td>64.0</td>\n",
       "      <td>7.0</td>\n",
       "      <td>84.0</td>\n",
       "      <td>39.8</td>\n",
       "      <td>29.0</td>\n",
       "    </tr>\n",
       "    <tr>\n",
       "      <th>3</th>\n",
       "      <td>male</td>\n",
       "      <td>20</td>\n",
       "      <td>192.0</td>\n",
       "      <td>90.0</td>\n",
       "      <td>25.0</td>\n",
       "      <td>105.0</td>\n",
       "      <td>40.7</td>\n",
       "      <td>140.0</td>\n",
       "    </tr>\n",
       "    <tr>\n",
       "      <th>4</th>\n",
       "      <td>female</td>\n",
       "      <td>38</td>\n",
       "      <td>166.0</td>\n",
       "      <td>61.0</td>\n",
       "      <td>25.0</td>\n",
       "      <td>102.0</td>\n",
       "      <td>40.6</td>\n",
       "      <td>146.0</td>\n",
       "    </tr>\n",
       "  </tbody>\n",
       "</table>\n",
       "</div>"
      ],
      "text/plain": [
       "      Sex  Age  Height  Weight  Duration  Heart_Rate  Body_Temp  Calories\n",
       "0    male   36   189.0    82.0      26.0       101.0       41.0     150.0\n",
       "1  female   64   163.0    60.0       8.0        85.0       39.7      34.0\n",
       "2  female   51   161.0    64.0       7.0        84.0       39.8      29.0\n",
       "3    male   20   192.0    90.0      25.0       105.0       40.7     140.0\n",
       "4  female   38   166.0    61.0      25.0       102.0       40.6     146.0"
      ]
     },
     "execution_count": 18,
     "metadata": {},
     "output_type": "execute_result"
    }
   ],
   "source": [
    "df.head()"
   ]
  },
  {
   "cell_type": "code",
   "execution_count": 19,
   "id": "1676571a-29e2-4a35-9c66-daa9e567d7f3",
   "metadata": {},
   "outputs": [
    {
     "data": {
      "text/plain": [
       "(762107, 8)"
      ]
     },
     "execution_count": 19,
     "metadata": {},
     "output_type": "execute_result"
    }
   ],
   "source": [
    "df.shape"
   ]
  },
  {
   "cell_type": "markdown",
   "id": "aefb4022-d852-4be1-9ad6-980f03237a12",
   "metadata": {},
   "source": [
    "##  Identify and visualize potential outliers in key numerical features and Calories"
   ]
  },
  {
   "cell_type": "code",
   "execution_count": 20,
   "id": "778ac266-8615-4a44-bdc5-094c230cb70b",
   "metadata": {},
   "outputs": [
    {
     "name": "stdout",
     "output_type": "stream",
     "text": [
      "Selected columns for outlier box plots: ['Age', 'Duration', 'Heart_Rate', 'Body_Temp', 'Weight', 'Calories']\n"
     ]
    },
    {
     "data": {
      "image/png": "[encoded data removed]",
      "text/plain": [
       "<Figure size 1500x800 with 6 Axes>"
      ]
     },
     "metadata": {},
     "output_type": "display_data"
    },
    {
     "name": "stdout",
     "output_type": "stream",
     "text": [
      "Image saved as: outlier_boxplots_key_features.png\n"
     ]
    }
   ],
   "source": [
    "key_cols_outlier = ['Age','Duration', 'Heart_Rate', 'Body_Temp', 'Weight', 'Calories']\n",
    "print(f\"Selected columns for outlier box plots: {key_cols_outlier}\")\n",
    "n_rows_outlier = 2\n",
    "n_cols_outlier = 3\n",
    "fig, axes = plt.subplots(n_rows_outlier, n_cols_outlier, figsize=(15, 8))\n",
    "axes = axes.flatten() # Flatten the axes array for easy iteration\n",
    "\n",
    "# Generate box plots for each key numerical column\n",
    "for i, col in enumerate(key_cols_outlier):\n",
    "    sns.boxplot(y=df[col], ax=axes[i]) # Using y= for vertical box plots\n",
    "    axes[i].set_title(f'Box plot of {col}', fontsize=12)\n",
    "    axes[i].set_xlabel('') # Remove x-label as it's redundant for vertical boxplot\n",
    "    axes[i].set_ylabel(col) # Set y-label to column name\n",
    "\n",
    "# Hide any unused subplots\n",
    "for j in range(i + 1, len(axes)):\n",
    "    fig.delaxes(axes[j])\n",
    "\n",
    "plt.suptitle('Box Plots for Outlier Detection in Key Numerical Features', fontsize=16, y=1.02) # Add overall title\n",
    "plt.tight_layout()\n",
    "\n",
    "# Save the combined plot to a file\n",
    "image_filename = 'outlier_boxplots_key_features.png'\n",
    "plt.savefig(image_filename)\n",
    "plt.show()\n",
    "print(f\"Image saved as: {image_filename}\")\n"
   ]
  },
  {
   "cell_type": "code",
   "execution_count": 21,
   "id": "f1e32e2a-ccd2-45f1-8baa-4184f0cae3e5",
   "metadata": {},
   "outputs": [
    {
     "data": {
      "image/png": "[encoded data removed]",
      "text/plain": [
       "<Figure size 640x480 with 2 Axes>"
      ]
     },
     "metadata": {},
     "output_type": "display_data"
    }
   ],
   "source": [
    "numeric_df = df.select_dtypes(include=[\"number\"])\n",
    "sns.heatmap(numeric_df.corr(), annot=True, fmt=\".2f\", cmap=\"coolwarm\")\n",
    "plt.title(\"Feature Correlation\")\n",
    "plt.show()"
   ]
  },
  {
   "cell_type": "markdown",
   "id": "0579a323-5289-4e44-933c-83300ecb1209",
   "metadata": {},
   "source": [
    "* Duration and Heart Rate has high positive correlation with calories. These are important features for model.\n",
    "* Height and Weight have high correlation with each other and might cause multicollinearity, which can make training unstable, cause redundancy and impact model interpretability.\n",
    "* Low correlation with calories (e.g. Height) suggests this is irrelavant, or might interact with others in non-obvious ways (e.g. weight). We can consider cross terms or nonlinear transformations."
   ]
  },
  {
   "cell_type": "markdown",
   "id": "22780b8f-1d6e-4b4a-8461-8bbc6da65057",
   "metadata": {},
   "source": [
    "# Data preprocessing"
   ]
  },
  {
   "cell_type": "markdown",
   "id": "3f6adcf4-a79f-4335-877a-ddb5e91c57fd",
   "metadata": {},
   "source": [
    "For random forests, we do not need to create dummy variables. Instead, we can convert the fields to categorical variables. Internally in pandas, this creates a list of all unique values in the column and replaces each value with a number. The number is just an index for looking up the value in the list of all unique values."
   ]
  },
  {
   "cell_type": "code",
   "execution_count": 22,
   "id": "924912f6-d19f-49fd-993f-299588a3b30b",
   "metadata": {},
   "outputs": [],
   "source": [
    "def proc_data(df):\n",
    "    df['Sex'] = pd.Categorical(df.Sex)\n",
    "    df['BMI'] = df['Weight'] / ((df['Height'] / 100) ** 2)\n",
    "    df = df.drop(columns = ['Weight', 'Height',])\n",
    "    return df\n",
    "\n",
    "train_df = proc_data(df)\n",
    "test_df = proc_data(test)"
   ]
  },
  {
   "cell_type": "code",
   "execution_count": 23,
   "id": "dc4b6f55-0741-4630-8b9d-531f5cfc3489",
   "metadata": {},
   "outputs": [
    {
     "data": {
      "text/plain": [
       "(Index(['Sex', 'Age', 'Duration', 'Heart_Rate', 'Body_Temp', 'Calories', 'BMI'], dtype='object'),\n",
       " Index(['id', 'Sex', 'Age', 'Duration', 'Heart_Rate', 'Body_Temp', 'BMI'], dtype='object'))"
      ]
     },
     "execution_count": 23,
     "metadata": {},
     "output_type": "execute_result"
    }
   ],
   "source": [
    "train_df.columns, test_df.columns"
   ]
  },
  {
   "cell_type": "code",
   "execution_count": 24,
   "id": "6a779e83-7242-4fc1-b67a-0661bbcd5e3f",
   "metadata": {},
   "outputs": [],
   "source": [
    "cats=[\"Sex\"]\n",
    "conts=['Age', 'Duration', 'Heart_Rate', 'Body_Temp', 'BMI']\n",
    "dep=\"Calories\""
   ]
  },
  {
   "cell_type": "code",
   "execution_count": 25,
   "id": "61b931ce-8462-4e47-88e3-f09555cf15d5",
   "metadata": {},
   "outputs": [
    {
     "data": {
      "text/plain": [
       "0      male\n",
       "1    female\n",
       "2    female\n",
       "3      male\n",
       "4    female\n",
       "Name: Sex, dtype: category\n",
       "Categories (2, object): ['female', 'male']"
      ]
     },
     "execution_count": 25,
     "metadata": {},
     "output_type": "execute_result"
    }
   ],
   "source": [
    "train_df.Sex.head()"
   ]
  },
  {
   "cell_type": "code",
   "execution_count": 26,
   "id": "f6e8096c-07fc-483a-bf2b-006ba33e9290",
   "metadata": {},
   "outputs": [
    {
     "data": {
      "text/plain": [
       "0    1\n",
       "1    0\n",
       "2    0\n",
       "3    1\n",
       "4    0\n",
       "dtype: int8"
      ]
     },
     "execution_count": 26,
     "metadata": {},
     "output_type": "execute_result"
    }
   ],
   "source": [
    "train_df.Sex.cat.codes.head()"
   ]
  },
  {
   "cell_type": "code",
   "execution_count": 27,
   "id": "cdb7cb12-7301-44c7-8527-c18a51226e63",
   "metadata": {},
   "outputs": [],
   "source": [
    "from numpy import random\n",
    "from sklearn.model_selection import train_test_split\n",
    "\n",
    "random.seed(42)\n",
    "trn_df,val_df = train_test_split(train_df, test_size=0.25)\n",
    "trn_df[cats] = trn_df[cats].apply(lambda x: x.cat.codes)\n",
    "val_df[cats] = val_df[cats].apply(lambda x: x.cat.codes)"
   ]
  },
  {
   "cell_type": "code",
   "execution_count": 28,
   "id": "4d2d3976-36cc-4323-b5d1-7ab198c1a808",
   "metadata": {},
   "outputs": [],
   "source": [
    "def xs_y(df):\n",
    "    xs = df[cats+conts].copy()\n",
    "    return xs,df[dep] if dep in df else None\n",
    "\n",
    "trn_xs,trn_y = xs_y(trn_df)\n",
    "val_xs,val_y = xs_y(val_df)"
   ]
  },
  {
   "cell_type": "markdown",
   "id": "8f27dd86-3b57-4588-bbe8-3e0ced4cbbb1",
   "metadata": {},
   "source": [
    "# Decision Tree"
   ]
  },
  {
   "cell_type": "code",
   "execution_count": 29,
   "id": "99722fdf-f97b-4288-9b36-b7b5997b9946",
   "metadata": {},
   "outputs": [],
   "source": [
    "from sklearn.tree import DecisionTreeRegressor, export_graphviz\n",
    "\n",
    "m = DecisionTreeRegressor(max_leaf_nodes=5).fit(trn_xs, trn_y);"
   ]
  },
  {
   "cell_type": "code",
   "execution_count": 30,
   "id": "bb73574b-2d8d-4a41-8364-0502eeed3a5e",
   "metadata": {},
   "outputs": [],
   "source": [
    "from sklearn.metrics import root_mean_squared_error"
   ]
  },
  {
   "cell_type": "code",
   "execution_count": 31,
   "id": "26b3f4fa-7a32-49a0-8200-3d3d1867df2c",
   "metadata": {},
   "outputs": [
    {
     "data": {
      "text/plain": [
       "19.8380291161039"
      ]
     },
     "execution_count": 31,
     "metadata": {},
     "output_type": "execute_result"
    }
   ],
   "source": [
    "root_mean_squared_error(val_y, m.predict(val_xs))"
   ]
  },
  {
   "cell_type": "code",
   "execution_count": 32,
   "id": "929bb436-13a5-44cd-8c86-4be35d042574",
   "metadata": {},
   "outputs": [],
   "source": [
    "import graphviz\n",
    "\n",
    "def draw_tree(t, df, size=10, ratio=0.6, precision=2, **kwargs):\n",
    "    s=export_graphviz(t, out_file=None, feature_names=df.columns, filled=True, rounded=True,\n",
    "                      special_characters=True, rotate=False, precision=precision, **kwargs)\n",
    "    return graphviz.Source(re.sub('Tree {', f'Tree {{ size={size}; ratio={ratio}', s))"
   ]
  },
  {
   "cell_type": "code",
   "execution_count": 33,
   "id": "c58b4886-cfab-4c2e-967d-9bf70dc4ab1c",
   "metadata": {},
   "outputs": [
    {
     "data": {
      "image/svg+xml": [
       "<?xml version=\"1.0\" encoding=\"UTF-8\" standalone=\"no\"?>\n",
       "<!DOCTYPE svg PUBLIC \"-//W3C//DTD SVG 1.1//EN\"\n",
       " \"http://www.w3.org/Graphics/SVG/1.1/DTD/svg11.dtd\">\n",
       "<!-- Generated by graphviz version 9.0.0 (20231125.0833)\n",
       " -->\n",
       "<!-- Title: Tree Pages: 1 -->\n",
       "<svg width=\"889pt\" height=\"537pt\"\n",
       " viewBox=\"0.00 0.00 888.50 536.99\" xmlns=\"http://www.w3.org/2000/svg\" xmlns:xlink=\"http://www.w3.org/1999/xlink\">\n",
       "<g id=\"graph0\" class=\"graph\" transform=\"scale(1 1) rotate(0) translate(4 532.99)\">\n",
       "<title>Tree</title>\n",
       "<polygon fill=\"white\" stroke=\"none\" points=\"-4,4 -4,-532.99 884.5,-532.99 884.5,4 -4,4\"/>\n",
       "<!-- 0 -->\n",
       "<g id=\"node1\" class=\"node\">\n",
       "<title>0</title>\n",
       "<path fill=\"#f6d1b7\" stroke=\"black\" d=\"M477,-516.5C477,-516.5 309.5,-516.5 309.5,-516.5 303.5,-516.5 297.5,-510.5 297.5,-504.5 297.5,-504.5 297.5,-451.5 297.5,-451.5 297.5,-445.5 303.5,-439.5 309.5,-439.5 309.5,-439.5 477,-439.5 477,-439.5 483,-439.5 489,-445.5 489,-451.5 489,-451.5 489,-504.5 489,-504.5 489,-510.5 483,-516.5 477,-516.5\"/>\n",
       "<text text-anchor=\"start\" x=\"337\" y=\"-499.2\" font-family=\"Helvetica,sans-Serif\" font-size=\"14.00\">Duration ≤ 18.5</text>\n",
       "<text text-anchor=\"start\" x=\"305.5\" y=\"-481.95\" font-family=\"Helvetica,sans-Serif\" font-size=\"14.00\">squared_error = 3892.44</text>\n",
       "<text text-anchor=\"start\" x=\"326.88\" y=\"-464.7\" font-family=\"Helvetica,sans-Serif\" font-size=\"14.00\">samples = 571580</text>\n",
       "<text text-anchor=\"start\" x=\"343.75\" y=\"-447.45\" font-family=\"Helvetica,sans-Serif\" font-size=\"14.00\">value = 88.32</text>\n",
       "</g>\n",
       "<!-- 1 -->\n",
       "<g id=\"node2\" class=\"node\">\n",
       "<title>1</title>\n",
       "<path fill=\"#fcefe6\" stroke=\"black\" d=\"M370.5,-366.5C370.5,-366.5 212,-366.5 212,-366.5 206,-366.5 200,-360.5 200,-354.5 200,-354.5 200,-301.5 200,-301.5 200,-295.5 206,-289.5 212,-289.5 212,-289.5 370.5,-289.5 370.5,-289.5 376.5,-289.5 382.5,-295.5 382.5,-301.5 382.5,-301.5 382.5,-354.5 382.5,-354.5 382.5,-360.5 376.5,-366.5 370.5,-366.5\"/>\n",
       "<text text-anchor=\"start\" x=\"235\" y=\"-349.2\" font-family=\"Helvetica,sans-Serif\" font-size=\"14.00\">Duration ≤ 10.5</text>\n",
       "<text text-anchor=\"start\" x=\"208\" y=\"-331.95\" font-family=\"Helvetica,sans-Serif\" font-size=\"14.00\">squared_error = 873.03</text>\n",
       "<text text-anchor=\"start\" x=\"224.88\" y=\"-314.7\" font-family=\"Helvetica,sans-Serif\" font-size=\"14.00\">samples = 347649</text>\n",
       "<text text-anchor=\"start\" x=\"246.25\" y=\"-297.45\" font-family=\"Helvetica,sans-Serif\" font-size=\"14.00\">value = 46.1</text>\n",
       "</g>\n",
       "<!-- 0&#45;&gt;1 -->\n",
       "<g id=\"edge1\" class=\"edge\">\n",
       "<title>0&#45;&gt;1</title>\n",
       "<path fill=\"none\" stroke=\"black\" d=\"M367.25,-439.27C354.05,-420.12 337.89,-396.67 323.86,-376.32\"/>\n",
       "<polygon fill=\"black\" stroke=\"black\" points=\"326.8,-374.41 318.24,-368.16 321.03,-378.38 326.8,-374.41\"/>\n",
       "<text text-anchor=\"middle\" x=\"312.86\" y=\"-386.83\" font-family=\"Helvetica,sans-Serif\" font-size=\"14.00\">True</text>\n",
       "</g>\n",
       "<!-- 2 -->\n",
       "<g id=\"node5\" class=\"node\">\n",
       "<title>2</title>\n",
       "<path fill=\"#eca26d\" stroke=\"black\" d=\"M580,-366.5C580,-366.5 412.5,-366.5 412.5,-366.5 406.5,-366.5 400.5,-360.5 400.5,-354.5 400.5,-354.5 400.5,-301.5 400.5,-301.5 400.5,-295.5 406.5,-289.5 412.5,-289.5 412.5,-289.5 580,-289.5 580,-289.5 586,-289.5 592,-295.5 592,-301.5 592,-301.5 592,-354.5 592,-354.5 592,-360.5 586,-366.5 580,-366.5\"/>\n",
       "<text text-anchor=\"start\" x=\"440\" y=\"-349.2\" font-family=\"Helvetica,sans-Serif\" font-size=\"14.00\">Duration ≤ 24.5</text>\n",
       "<text text-anchor=\"start\" x=\"408.5\" y=\"-331.95\" font-family=\"Helvetica,sans-Serif\" font-size=\"14.00\">squared_error = 1516.92</text>\n",
       "<text text-anchor=\"start\" x=\"429.88\" y=\"-314.7\" font-family=\"Helvetica,sans-Serif\" font-size=\"14.00\">samples = 223931</text>\n",
       "<text text-anchor=\"start\" x=\"442.25\" y=\"-297.45\" font-family=\"Helvetica,sans-Serif\" font-size=\"14.00\">value = 153.87</text>\n",
       "</g>\n",
       "<!-- 0&#45;&gt;2 -->\n",
       "<g id=\"edge4\" class=\"edge\">\n",
       "<title>0&#45;&gt;2</title>\n",
       "<path fill=\"none\" stroke=\"black\" d=\"M419.51,-439.27C432.83,-420.12 449.16,-396.67 463.32,-376.32\"/>\n",
       "<polygon fill=\"black\" stroke=\"black\" points=\"466.16,-378.37 469,-368.16 460.41,-374.37 466.16,-378.37\"/>\n",
       "<text text-anchor=\"middle\" x=\"474.27\" y=\"-386.85\" font-family=\"Helvetica,sans-Serif\" font-size=\"14.00\">False</text>\n",
       "</g>\n",
       "<!-- 3 -->\n",
       "<g id=\"node3\" class=\"node\">\n",
       "<title>3</title>\n",
       "<path fill=\"#ffffff\" stroke=\"black\" d=\"M170.5,-207.88C170.5,-207.88 12,-207.88 12,-207.88 6,-207.88 0,-201.88 0,-195.88 0,-195.88 0,-160.12 0,-160.12 0,-154.12 6,-148.12 12,-148.12 12,-148.12 170.5,-148.12 170.5,-148.12 176.5,-148.12 182.5,-154.12 182.5,-160.12 182.5,-160.12 182.5,-195.88 182.5,-195.88 182.5,-201.88 176.5,-207.88 170.5,-207.88\"/>\n",
       "<text text-anchor=\"start\" x=\"8\" y=\"-190.57\" font-family=\"Helvetica,sans-Serif\" font-size=\"14.00\">squared_error = 200.81</text>\n",
       "<text text-anchor=\"start\" x=\"24.88\" y=\"-173.32\" font-family=\"Helvetica,sans-Serif\" font-size=\"14.00\">samples = 189989</text>\n",
       "<text text-anchor=\"start\" x=\"41.75\" y=\"-156.07\" font-family=\"Helvetica,sans-Serif\" font-size=\"14.00\">value = 23.91</text>\n",
       "</g>\n",
       "<!-- 1&#45;&gt;3 -->\n",
       "<g id=\"edge2\" class=\"edge\">\n",
       "<title>1&#45;&gt;3</title>\n",
       "<path fill=\"none\" stroke=\"black\" d=\"M240,-289.08C209.17,-266.26 170.14,-237.38 139.8,-214.93\"/>\n",
       "<polygon fill=\"black\" stroke=\"black\" points=\"142.02,-212.22 131.9,-209.08 137.86,-217.84 142.02,-212.22\"/>\n",
       "</g>\n",
       "<!-- 4 -->\n",
       "<g id=\"node4\" class=\"node\">\n",
       "<title>4</title>\n",
       "<path fill=\"#f8dcc8\" stroke=\"black\" d=\"M371.5,-207.88C371.5,-207.88 213,-207.88 213,-207.88 207,-207.88 201,-201.88 201,-195.88 201,-195.88 201,-160.12 201,-160.12 201,-154.12 207,-148.12 213,-148.12 213,-148.12 371.5,-148.12 371.5,-148.12 377.5,-148.12 383.5,-154.12 383.5,-160.12 383.5,-160.12 383.5,-195.88 383.5,-195.88 383.5,-201.88 377.5,-207.88 371.5,-207.88\"/>\n",
       "<text text-anchor=\"start\" x=\"209\" y=\"-190.57\" font-family=\"Helvetica,sans-Serif\" font-size=\"14.00\">squared_error = 374.22</text>\n",
       "<text text-anchor=\"start\" x=\"225.88\" y=\"-173.32\" font-family=\"Helvetica,sans-Serif\" font-size=\"14.00\">samples = 157660</text>\n",
       "<text text-anchor=\"start\" x=\"242.75\" y=\"-156.07\" font-family=\"Helvetica,sans-Serif\" font-size=\"14.00\">value = 72.85</text>\n",
       "</g>\n",
       "<!-- 1&#45;&gt;4 -->\n",
       "<g id=\"edge3\" class=\"edge\">\n",
       "<title>1&#45;&gt;4</title>\n",
       "<path fill=\"none\" stroke=\"black\" d=\"M291.5,-289.27C291.65,-268.03 291.83,-241.48 291.97,-219.76\"/>\n",
       "<polygon fill=\"black\" stroke=\"black\" points=\"295.47,-219.79 292.04,-209.77 288.47,-219.74 295.47,-219.79\"/>\n",
       "</g>\n",
       "<!-- 5 -->\n",
       "<g id=\"node6\" class=\"node\">\n",
       "<title>5</title>\n",
       "<path fill=\"#f0b68d\" stroke=\"black\" d=\"M574.5,-207.88C574.5,-207.88 416,-207.88 416,-207.88 410,-207.88 404,-201.88 404,-195.88 404,-195.88 404,-160.12 404,-160.12 404,-154.12 410,-148.12 416,-148.12 416,-148.12 574.5,-148.12 574.5,-148.12 580.5,-148.12 586.5,-154.12 586.5,-160.12 586.5,-160.12 586.5,-195.88 586.5,-195.88 586.5,-201.88 580.5,-207.88 574.5,-207.88\"/>\n",
       "<text text-anchor=\"start\" x=\"412\" y=\"-190.57\" font-family=\"Helvetica,sans-Serif\" font-size=\"14.00\">squared_error = 557.21</text>\n",
       "<text text-anchor=\"start\" x=\"428.88\" y=\"-173.32\" font-family=\"Helvetica,sans-Serif\" font-size=\"14.00\">samples = 113705</text>\n",
       "<text text-anchor=\"start\" x=\"441.25\" y=\"-156.07\" font-family=\"Helvetica,sans-Serif\" font-size=\"14.00\">value = 126.03</text>\n",
       "</g>\n",
       "<!-- 2&#45;&gt;5 -->\n",
       "<g id=\"edge5\" class=\"edge\">\n",
       "<title>2&#45;&gt;5</title>\n",
       "<path fill=\"none\" stroke=\"black\" d=\"M496,-289.27C495.85,-268.03 495.67,-241.48 495.53,-219.76\"/>\n",
       "<polygon fill=\"black\" stroke=\"black\" points=\"499.03,-219.74 495.46,-209.77 492.03,-219.79 499.03,-219.74\"/>\n",
       "</g>\n",
       "<!-- 6 -->\n",
       "<g id=\"node7\" class=\"node\">\n",
       "<title>6</title>\n",
       "<path fill=\"#e88e4d\" stroke=\"black\" d=\"M766,-216.5C766,-216.5 616.5,-216.5 616.5,-216.5 610.5,-216.5 604.5,-210.5 604.5,-204.5 604.5,-204.5 604.5,-151.5 604.5,-151.5 604.5,-145.5 610.5,-139.5 616.5,-139.5 616.5,-139.5 766,-139.5 766,-139.5 772,-139.5 778,-145.5 778,-151.5 778,-151.5 778,-204.5 778,-204.5 778,-210.5 772,-216.5 766,-216.5\"/>\n",
       "<text text-anchor=\"start\" x=\"622.25\" y=\"-199.2\" font-family=\"Helvetica,sans-Serif\" font-size=\"14.00\">Heart_Rate ≤ 107.5</text>\n",
       "<text text-anchor=\"start\" x=\"612.5\" y=\"-181.95\" font-family=\"Helvetica,sans-Serif\" font-size=\"14.00\">squared_error = 882.5</text>\n",
       "<text text-anchor=\"start\" x=\"624.88\" y=\"-164.7\" font-family=\"Helvetica,sans-Serif\" font-size=\"14.00\">samples = 110226</text>\n",
       "<text text-anchor=\"start\" x=\"637.25\" y=\"-147.45\" font-family=\"Helvetica,sans-Serif\" font-size=\"14.00\">value = 182.59</text>\n",
       "</g>\n",
       "<!-- 2&#45;&gt;6 -->\n",
       "<g id=\"edge6\" class=\"edge\">\n",
       "<title>2&#45;&gt;6</title>\n",
       "<path fill=\"none\" stroke=\"black\" d=\"M546.21,-289.08C572.47,-269.15 604.82,-244.6 632.3,-223.74\"/>\n",
       "<polygon fill=\"black\" stroke=\"black\" points=\"634.36,-226.57 640.21,-217.74 630.13,-221 634.36,-226.57\"/>\n",
       "</g>\n",
       "<!-- 7 -->\n",
       "<g id=\"node8\" class=\"node\">\n",
       "<title>7</title>\n",
       "<path fill=\"#ea995f\" stroke=\"black\" d=\"M668,-69.88C668,-69.88 518.5,-69.88 518.5,-69.88 512.5,-69.88 506.5,-63.88 506.5,-57.88 506.5,-57.88 506.5,-22.12 506.5,-22.12 506.5,-16.12 512.5,-10.12 518.5,-10.12 518.5,-10.12 668,-10.12 668,-10.12 674,-10.12 680,-16.12 680,-22.12 680,-22.12 680,-57.88 680,-57.88 680,-63.88 674,-69.88 668,-69.88\"/>\n",
       "<text text-anchor=\"start\" x=\"514.5\" y=\"-52.58\" font-family=\"Helvetica,sans-Serif\" font-size=\"14.00\">squared_error = 526.4</text>\n",
       "<text text-anchor=\"start\" x=\"531.38\" y=\"-35.33\" font-family=\"Helvetica,sans-Serif\" font-size=\"14.00\">samples = 57832</text>\n",
       "<text text-anchor=\"start\" x=\"539.25\" y=\"-18.07\" font-family=\"Helvetica,sans-Serif\" font-size=\"14.00\">value = 166.26</text>\n",
       "</g>\n",
       "<!-- 6&#45;&gt;7 -->\n",
       "<g id=\"edge7\" class=\"edge\">\n",
       "<title>6&#45;&gt;7</title>\n",
       "<path fill=\"none\" stroke=\"black\" d=\"M663.95,-139.12C650.48,-120.42 634.27,-97.93 620.77,-79.19\"/>\n",
       "<polygon fill=\"black\" stroke=\"black\" points=\"623.76,-77.35 615.07,-71.29 618.08,-81.45 623.76,-77.35\"/>\n",
       "</g>\n",
       "<!-- 8 -->\n",
       "<g id=\"node9\" class=\"node\">\n",
       "<title>8</title>\n",
       "<path fill=\"#e58139\" stroke=\"black\" d=\"M868.5,-69.88C868.5,-69.88 710,-69.88 710,-69.88 704,-69.88 698,-63.88 698,-57.88 698,-57.88 698,-22.12 698,-22.12 698,-16.12 704,-10.12 710,-10.12 710,-10.12 868.5,-10.12 868.5,-10.12 874.5,-10.12 880.5,-16.12 880.5,-22.12 880.5,-22.12 880.5,-57.88 880.5,-57.88 880.5,-63.88 874.5,-69.88 868.5,-69.88\"/>\n",
       "<text text-anchor=\"start\" x=\"706\" y=\"-52.58\" font-family=\"Helvetica,sans-Serif\" font-size=\"14.00\">squared_error = 656.41</text>\n",
       "<text text-anchor=\"start\" x=\"727.38\" y=\"-35.33\" font-family=\"Helvetica,sans-Serif\" font-size=\"14.00\">samples = 52394</text>\n",
       "<text text-anchor=\"start\" x=\"735.25\" y=\"-18.07\" font-family=\"Helvetica,sans-Serif\" font-size=\"14.00\">value = 200.61</text>\n",
       "</g>\n",
       "<!-- 6&#45;&gt;8 -->\n",
       "<g id=\"edge8\" class=\"edge\">\n",
       "<title>6&#45;&gt;8</title>\n",
       "<path fill=\"none\" stroke=\"black\" d=\"M718.55,-139.12C732.02,-120.42 748.23,-97.93 761.73,-79.19\"/>\n",
       "<polygon fill=\"black\" stroke=\"black\" points=\"764.42,-81.45 767.43,-71.29 758.74,-77.35 764.42,-81.45\"/>\n",
       "</g>\n",
       "</g>\n",
       "</svg>\n"
      ],
      "text/plain": [
       "<graphviz.sources.Source at 0x7fc237765cd0>"
      ]
     },
     "execution_count": 33,
     "metadata": {},
     "output_type": "execute_result"
    }
   ],
   "source": [
    "draw_tree(m, trn_xs, size=20)"
   ]
  },
  {
   "cell_type": "code",
   "execution_count": 34,
   "id": "eaa1b323-d041-4bc8-a2a0-32b61a3edcec",
   "metadata": {},
   "outputs": [
    {
     "data": {
      "text/plain": [
       "Calories      1.000000\n",
       "Duration      0.959744\n",
       "Heart_Rate    0.908438\n",
       "Body_Temp     0.828737\n",
       "Age           0.145858\n",
       "BMI           0.049914\n",
       "Sex           0.013039\n",
       "Name: Calories, dtype: float64"
      ]
     },
     "execution_count": 34,
     "metadata": {},
     "output_type": "execute_result"
    }
   ],
   "source": [
    "trn_df.corr(numeric_only=True)[\"Calories\"].sort_values(ascending=False)"
   ]
  },
  {
   "cell_type": "code",
   "execution_count": 35,
   "id": "8e103dfa-74f6-4f8b-87d7-41d1a36825d7",
   "metadata": {},
   "outputs": [
    {
     "data": {
      "text/plain": [
       "Text(0.5, 1.0, 'Feature Importances')"
      ]
     },
     "execution_count": 35,
     "metadata": {},
     "output_type": "execute_result"
    },
    {
     "data": {
      "image/png": "[encoded data removed]",
      "text/plain": [
       "<Figure size 640x480 with 1 Axes>"
      ]
     },
     "metadata": {},
     "output_type": "display_data"
    }
   ],
   "source": [
    "import matplotlib.pyplot as plt\n",
    "import seaborn as sns\n",
    "\n",
    "feat_importances = pd.Series(m.feature_importances_, index=trn_xs.columns)\n",
    "sns.barplot(x=feat_importances, y=feat_importances.index)\n",
    "plt.title(\"Feature Importances\")"
   ]
  },
  {
   "cell_type": "markdown",
   "id": "5ec0b64d-a5b3-4411-89b8-ca50ae44a492",
   "metadata": {},
   "source": [
    "Here is a simple representation of Decision Tree. This decision tree uses binary splits to make predictions, but its performance is suboptimal. I tried combining the two parameters Duration and heart rate as intensity, but that led the performance did not improve. One possible reason is that the tree relied heavily on a single feature, such as Intensity, for most of its splits. This suggests it may not be effectively utilizing the full range of input features. Additionally, if the tree has a low maximum depth or is limited to a small number of leaf nodes, it may underfit the data, failing to capture important patterns or interactions between variables. As a result, the model's predictive power is limited as expected."
   ]
  },
  {
   "cell_type": "markdown",
   "id": "f9ddc5ab-28c8-4ae8-a647-34bfee1b55bf",
   "metadata": {},
   "source": [
    "# Random Forests"
   ]
  },
  {
   "cell_type": "markdown",
   "id": "57985c35-8a33-4531-990c-ae954c0b1aa5",
   "metadata": {},
   "source": [
    "One solution which can prevent underfitting as well as overfitting (due increase in depth): instead of relying on a single, limited tree, we create many larger trees and average their predictions — a technique called bagging (Bootstrap Aggregating). This is the fundamental idea behind Random Forests.\n",
    "\n",
    "The key insight is this: if each tree in the ensemble makes predictions that are uncorrelated with the others, the average of their errors will tend toward zero. That’s because the average of many uncorrelated random errors cancels out. As a result, the final ensemble prediction is more accurate and stable than any single tree.\n",
    "\n",
    "One way we can create a bunch of uncorrelated models is to train each of them on a different random subset of the data."
   ]
  },
  {
   "cell_type": "code",
   "execution_count": 36,
   "id": "e004f46b-c850-4311-96d1-ee96ec0f7171",
   "metadata": {},
   "outputs": [],
   "source": [
    "def get_tree(prop=0.75):\n",
    "    n = len(trn_y)\n",
    "    idxs = random.choice(n, int(n*prop))\n",
    "    return DecisionTreeRegressor(min_samples_leaf=5).fit(trn_xs.iloc[idxs], trn_y.iloc[idxs])"
   ]
  },
  {
   "cell_type": "code",
   "execution_count": 37,
   "id": "d6fe3d1b-e9cf-4bbf-9f1f-da0826781947",
   "metadata": {},
   "outputs": [],
   "source": [
    "trees = [get_tree() for t in range(100)]"
   ]
  },
  {
   "cell_type": "code",
   "execution_count": 38,
   "id": "f950c104-74f8-4012-92a4-deaa67fc0daf",
   "metadata": {},
   "outputs": [
    {
     "data": {
      "text/plain": [
       "4.240342213543998"
      ]
     },
     "execution_count": 38,
     "metadata": {},
     "output_type": "execute_result"
    }
   ],
   "source": [
    "all_probs = [t.predict(val_xs) for t in trees]\n",
    "avg_probs = np.stack(all_probs).mean(0)\n",
    "\n",
    "root_mean_squared_error(val_y, avg_probs)"
   ]
  },
  {
   "cell_type": "code",
   "execution_count": 39,
   "id": "512bfcd4-6162-47f1-a046-cde9c8935837",
   "metadata": {},
   "outputs": [
    {
     "data": {
      "text/plain": [
       "1.6710400018121145"
      ]
     },
     "execution_count": 39,
     "metadata": {},
     "output_type": "execute_result"
    }
   ],
   "source": [
    "preds_std = np.stack(all_probs).std(0)\n",
    "preds_std.std(0)"
   ]
  },
  {
   "cell_type": "markdown",
   "id": "73e367de-bf9b-49d0-8478-ba4a56a51e29",
   "metadata": {},
   "source": [
    "If the std deviation is high, this means that lot of trees are giving outputs that are far off from mean."
   ]
  },
  {
   "cell_type": "markdown",
   "id": "5f0b348f-a06e-4bb6-a415-d973b8d24fab",
   "metadata": {},
   "source": [
    "This loss is much better then decision tree. This is nearly identical to what sklearn's RandomForestClassifier does. The main extra piece in a \"real\" random forest is that as well as choosing a random sample of data for each tree, it also picks a random subset of columns for each split. Here's how we repeat the above process with a random forest:"
   ]
  },
  {
   "cell_type": "code",
   "execution_count": 40,
   "id": "aab772b9-9024-4130-b831-34c7df31fb49",
   "metadata": {},
   "outputs": [
    {
     "name": "stderr",
     "output_type": "stream",
     "text": [
      "[Parallel(n_jobs=-1)]: Using backend ThreadingBackend with 24 concurrent workers.\n",
      "[Parallel(n_jobs=-1)]: Done   2 tasks      | elapsed:    1.2s\n",
      "[Parallel(n_jobs=-1)]: Done 100 out of 100 | elapsed:    5.8s finished\n"
     ]
    },
    {
     "data": {
      "text/html": [
       "<style>#sk-container-id-1 {\n",
       "  /* Definition of color scheme common for light and dark mode */\n",
       "  --sklearn-color-text: black;\n",
       "  --sklearn-color-line: gray;\n",
       "  /* Definition of color scheme for unfitted estimators */\n",
       "  --sklearn-color-unfitted-level-0: #fff5e6;\n",
       "  --sklearn-color-unfitted-level-1: #f6e4d2;\n",
       "  --sklearn-color-unfitted-level-2: #ffe0b3;\n",
       "  --sklearn-color-unfitted-level-3: chocolate;\n",
       "  /* Definition of color scheme for fitted estimators */\n",
       "  --sklearn-color-fitted-level-0: #f0f8ff;\n",
       "  --sklearn-color-fitted-level-1: #d4ebff;\n",
       "  --sklearn-color-fitted-level-2: #b3dbfd;\n",
       "  --sklearn-color-fitted-level-3: cornflowerblue;\n",
       "\n",
       "  /* Specific color for light theme */\n",
       "  --sklearn-color-text-on-default-background: var(--sg-text-color, var(--theme-code-foreground, var(--jp-content-font-color1, black)));\n",
       "  --sklearn-color-background: var(--sg-background-color, var(--theme-background, var(--jp-layout-color0, white)));\n",
       "  --sklearn-color-border-box: var(--sg-text-color, var(--theme-code-foreground, var(--jp-content-font-color1, black)));\n",
       "  --sklearn-color-icon: #696969;\n",
       "\n",
       "  @media (prefers-color-scheme: dark) {\n",
       "    /* Redefinition of color scheme for dark theme */\n",
       "    --sklearn-color-text-on-default-background: var(--sg-text-color, var(--theme-code-foreground, var(--jp-content-font-color1, white)));\n",
       "    --sklearn-color-background: var(--sg-background-color, var(--theme-background, var(--jp-layout-color0, #111)));\n",
       "    --sklearn-color-border-box: var(--sg-text-color, var(--theme-code-foreground, var(--jp-content-font-color1, white)));\n",
       "    --sklearn-color-icon: #878787;\n",
       "  }\n",
       "}\n",
       "\n",
       "#sk-container-id-1 {\n",
       "  color: var(--sklearn-color-text);\n",
       "}\n",
       "\n",
       "#sk-container-id-1 pre {\n",
       "  padding: 0;\n",
       "}\n",
       "\n",
       "#sk-container-id-1 input.sk-hidden--visually {\n",
       "  border: 0;\n",
       "  clip: rect(1px 1px 1px 1px);\n",
       "  clip: rect(1px, 1px, 1px, 1px);\n",
       "  height: 1px;\n",
       "  margin: -1px;\n",
       "  overflow: hidden;\n",
       "  padding: 0;\n",
       "  position: absolute;\n",
       "  width: 1px;\n",
       "}\n",
       "\n",
       "#sk-container-id-1 div.sk-dashed-wrapped {\n",
       "  border: 1px dashed var(--sklearn-color-line);\n",
       "  margin: 0 0.4em 0.5em 0.4em;\n",
       "  box-sizing: border-box;\n",
       "  padding-bottom: 0.4em;\n",
       "  background-color: var(--sklearn-color-background);\n",
       "}\n",
       "\n",
       "#sk-container-id-1 div.sk-container {\n",
       "  /* jupyter's `normalize.less` sets `[hidden] { display: none; }`\n",
       "     but bootstrap.min.css set `[hidden] { display: none !important; }`\n",
       "     so we also need the `!important` here to be able to override the\n",
       "     default hidden behavior on the sphinx rendered scikit-learn.org.\n",
       "     See: https://github.com/scikit-learn/scikit-learn/issues/21755 */\n",
       "  display: inline-block !important;\n",
       "  position: relative;\n",
       "}\n",
       "\n",
       "#sk-container-id-1 div.sk-text-repr-fallback {\n",
       "  display: none;\n",
       "}\n",
       "\n",
       "div.sk-parallel-item,\n",
       "div.sk-serial,\n",
       "div.sk-item {\n",
       "  /* draw centered vertical line to link estimators */\n",
       "  background-image: linear-gradient(var(--sklearn-color-text-on-default-background), var(--sklearn-color-text-on-default-background));\n",
       "  background-size: 2px 100%;\n",
       "  background-repeat: no-repeat;\n",
       "  background-position: center center;\n",
       "}\n",
       "\n",
       "/* Parallel-specific style estimator block */\n",
       "\n",
       "#sk-container-id-1 div.sk-parallel-item::after {\n",
       "  content: \"\";\n",
       "  width: 100%;\n",
       "  border-bottom: 2px solid var(--sklearn-color-text-on-default-background);\n",
       "  flex-grow: 1;\n",
       "}\n",
       "\n",
       "#sk-container-id-1 div.sk-parallel {\n",
       "  display: flex;\n",
       "  align-items: stretch;\n",
       "  justify-content: center;\n",
       "  background-color: var(--sklearn-color-background);\n",
       "  position: relative;\n",
       "}\n",
       "\n",
       "#sk-container-id-1 div.sk-parallel-item {\n",
       "  display: flex;\n",
       "  flex-direction: column;\n",
       "}\n",
       "\n",
       "#sk-container-id-1 div.sk-parallel-item:first-child::after {\n",
       "  align-self: flex-end;\n",
       "  width: 50%;\n",
       "}\n",
       "\n",
       "#sk-container-id-1 div.sk-parallel-item:last-child::after {\n",
       "  align-self: flex-start;\n",
       "  width: 50%;\n",
       "}\n",
       "\n",
       "#sk-container-id-1 div.sk-parallel-item:only-child::after {\n",
       "  width: 0;\n",
       "}\n",
       "\n",
       "/* Serial-specific style estimator block */\n",
       "\n",
       "#sk-container-id-1 div.sk-serial {\n",
       "  display: flex;\n",
       "  flex-direction: column;\n",
       "  align-items: center;\n",
       "  background-color: var(--sklearn-color-background);\n",
       "  padding-right: 1em;\n",
       "  padding-left: 1em;\n",
       "}\n",
       "\n",
       "\n",
       "/* Toggleable style: style used for estimator/Pipeline/ColumnTransformer box that is\n",
       "clickable and can be expanded/collapsed.\n",
       "- Pipeline and ColumnTransformer use this feature and define the default style\n",
       "- Estimators will overwrite some part of the style using the `sk-estimator` class\n",
       "*/\n",
       "\n",
       "/* Pipeline and ColumnTransformer style (default) */\n",
       "\n",
       "#sk-container-id-1 div.sk-toggleable {\n",
       "  /* Default theme specific background. It is overwritten whether we have a\n",
       "  specific estimator or a Pipeline/ColumnTransformer */\n",
       "  background-color: var(--sklearn-color-background);\n",
       "}\n",
       "\n",
       "/* Toggleable label */\n",
       "#sk-container-id-1 label.sk-toggleable__label {\n",
       "  cursor: pointer;\n",
       "  display: block;\n",
       "  width: 100%;\n",
       "  margin-bottom: 0;\n",
       "  padding: 0.5em;\n",
       "  box-sizing: border-box;\n",
       "  text-align: center;\n",
       "}\n",
       "\n",
       "#sk-container-id-1 label.sk-toggleable__label-arrow:before {\n",
       "  /* Arrow on the left of the label */\n",
       "  content: \"▸\";\n",
       "  float: left;\n",
       "  margin-right: 0.25em;\n",
       "  color: var(--sklearn-color-icon);\n",
       "}\n",
       "\n",
       "#sk-container-id-1 label.sk-toggleable__label-arrow:hover:before {\n",
       "  color: var(--sklearn-color-text);\n",
       "}\n",
       "\n",
       "/* Toggleable content - dropdown */\n",
       "\n",
       "#sk-container-id-1 div.sk-toggleable__content {\n",
       "  max-height: 0;\n",
       "  max-width: 0;\n",
       "  overflow: hidden;\n",
       "  text-align: left;\n",
       "  /* unfitted */\n",
       "  background-color: var(--sklearn-color-unfitted-level-0);\n",
       "}\n",
       "\n",
       "#sk-container-id-1 div.sk-toggleable__content.fitted {\n",
       "  /* fitted */\n",
       "  background-color: var(--sklearn-color-fitted-level-0);\n",
       "}\n",
       "\n",
       "#sk-container-id-1 div.sk-toggleable__content pre {\n",
       "  margin: 0.2em;\n",
       "  border-radius: 0.25em;\n",
       "  color: var(--sklearn-color-text);\n",
       "  /* unfitted */\n",
       "  background-color: var(--sklearn-color-unfitted-level-0);\n",
       "}\n",
       "\n",
       "#sk-container-id-1 div.sk-toggleable__content.fitted pre {\n",
       "  /* unfitted */\n",
       "  background-color: var(--sklearn-color-fitted-level-0);\n",
       "}\n",
       "\n",
       "#sk-container-id-1 input.sk-toggleable__control:checked~div.sk-toggleable__content {\n",
       "  /* Expand drop-down */\n",
       "  max-height: 200px;\n",
       "  max-width: 100%;\n",
       "  overflow: auto;\n",
       "}\n",
       "\n",
       "#sk-container-id-1 input.sk-toggleable__control:checked~label.sk-toggleable__label-arrow:before {\n",
       "  content: \"▾\";\n",
       "}\n",
       "\n",
       "/* Pipeline/ColumnTransformer-specific style */\n",
       "\n",
       "#sk-container-id-1 div.sk-label input.sk-toggleable__control:checked~label.sk-toggleable__label {\n",
       "  color: var(--sklearn-color-text);\n",
       "  background-color: var(--sklearn-color-unfitted-level-2);\n",
       "}\n",
       "\n",
       "#sk-container-id-1 div.sk-label.fitted input.sk-toggleable__control:checked~label.sk-toggleable__label {\n",
       "  background-color: var(--sklearn-color-fitted-level-2);\n",
       "}\n",
       "\n",
       "/* Estimator-specific style */\n",
       "\n",
       "/* Colorize estimator box */\n",
       "#sk-container-id-1 div.sk-estimator input.sk-toggleable__control:checked~label.sk-toggleable__label {\n",
       "  /* unfitted */\n",
       "  background-color: var(--sklearn-color-unfitted-level-2);\n",
       "}\n",
       "\n",
       "#sk-container-id-1 div.sk-estimator.fitted input.sk-toggleable__control:checked~label.sk-toggleable__label {\n",
       "  /* fitted */\n",
       "  background-color: var(--sklearn-color-fitted-level-2);\n",
       "}\n",
       "\n",
       "#sk-container-id-1 div.sk-label label.sk-toggleable__label,\n",
       "#sk-container-id-1 div.sk-label label {\n",
       "  /* The background is the default theme color */\n",
       "  color: var(--sklearn-color-text-on-default-background);\n",
       "}\n",
       "\n",
       "/* On hover, darken the color of the background */\n",
       "#sk-container-id-1 div.sk-label:hover label.sk-toggleable__label {\n",
       "  color: var(--sklearn-color-text);\n",
       "  background-color: var(--sklearn-color-unfitted-level-2);\n",
       "}\n",
       "\n",
       "/* Label box, darken color on hover, fitted */\n",
       "#sk-container-id-1 div.sk-label.fitted:hover label.sk-toggleable__label.fitted {\n",
       "  color: var(--sklearn-color-text);\n",
       "  background-color: var(--sklearn-color-fitted-level-2);\n",
       "}\n",
       "\n",
       "/* Estimator label */\n",
       "\n",
       "#sk-container-id-1 div.sk-label label {\n",
       "  font-family: monospace;\n",
       "  font-weight: bold;\n",
       "  display: inline-block;\n",
       "  line-height: 1.2em;\n",
       "}\n",
       "\n",
       "#sk-container-id-1 div.sk-label-container {\n",
       "  text-align: center;\n",
       "}\n",
       "\n",
       "/* Estimator-specific */\n",
       "#sk-container-id-1 div.sk-estimator {\n",
       "  font-family: monospace;\n",
       "  border: 1px dotted var(--sklearn-color-border-box);\n",
       "  border-radius: 0.25em;\n",
       "  box-sizing: border-box;\n",
       "  margin-bottom: 0.5em;\n",
       "  /* unfitted */\n",
       "  background-color: var(--sklearn-color-unfitted-level-0);\n",
       "}\n",
       "\n",
       "#sk-container-id-1 div.sk-estimator.fitted {\n",
       "  /* fitted */\n",
       "  background-color: var(--sklearn-color-fitted-level-0);\n",
       "}\n",
       "\n",
       "/* on hover */\n",
       "#sk-container-id-1 div.sk-estimator:hover {\n",
       "  /* unfitted */\n",
       "  background-color: var(--sklearn-color-unfitted-level-2);\n",
       "}\n",
       "\n",
       "#sk-container-id-1 div.sk-estimator.fitted:hover {\n",
       "  /* fitted */\n",
       "  background-color: var(--sklearn-color-fitted-level-2);\n",
       "}\n",
       "\n",
       "/* Specification for estimator info (e.g. \"i\" and \"?\") */\n",
       "\n",
       "/* Common style for \"i\" and \"?\" */\n",
       "\n",
       ".sk-estimator-doc-link,\n",
       "a:link.sk-estimator-doc-link,\n",
       "a:visited.sk-estimator-doc-link {\n",
       "  float: right;\n",
       "  font-size: smaller;\n",
       "  line-height: 1em;\n",
       "  font-family: monospace;\n",
       "  background-color: var(--sklearn-color-background);\n",
       "  border-radius: 1em;\n",
       "  height: 1em;\n",
       "  width: 1em;\n",
       "  text-decoration: none !important;\n",
       "  margin-left: 1ex;\n",
       "  /* unfitted */\n",
       "  border: var(--sklearn-color-unfitted-level-1) 1pt solid;\n",
       "  color: var(--sklearn-color-unfitted-level-1);\n",
       "}\n",
       "\n",
       ".sk-estimator-doc-link.fitted,\n",
       "a:link.sk-estimator-doc-link.fitted,\n",
       "a:visited.sk-estimator-doc-link.fitted {\n",
       "  /* fitted */\n",
       "  border: var(--sklearn-color-fitted-level-1) 1pt solid;\n",
       "  color: var(--sklearn-color-fitted-level-1);\n",
       "}\n",
       "\n",
       "/* On hover */\n",
       "div.sk-estimator:hover .sk-estimator-doc-link:hover,\n",
       ".sk-estimator-doc-link:hover,\n",
       "div.sk-label-container:hover .sk-estimator-doc-link:hover,\n",
       ".sk-estimator-doc-link:hover {\n",
       "  /* unfitted */\n",
       "  background-color: var(--sklearn-color-unfitted-level-3);\n",
       "  color: var(--sklearn-color-background);\n",
       "  text-decoration: none;\n",
       "}\n",
       "\n",
       "div.sk-estimator.fitted:hover .sk-estimator-doc-link.fitted:hover,\n",
       ".sk-estimator-doc-link.fitted:hover,\n",
       "div.sk-label-container:hover .sk-estimator-doc-link.fitted:hover,\n",
       ".sk-estimator-doc-link.fitted:hover {\n",
       "  /* fitted */\n",
       "  background-color: var(--sklearn-color-fitted-level-3);\n",
       "  color: var(--sklearn-color-background);\n",
       "  text-decoration: none;\n",
       "}\n",
       "\n",
       "/* Span, style for the box shown on hovering the info icon */\n",
       ".sk-estimator-doc-link span {\n",
       "  display: none;\n",
       "  z-index: 9999;\n",
       "  position: relative;\n",
       "  font-weight: normal;\n",
       "  right: .2ex;\n",
       "  padding: .5ex;\n",
       "  margin: .5ex;\n",
       "  width: min-content;\n",
       "  min-width: 20ex;\n",
       "  max-width: 50ex;\n",
       "  color: var(--sklearn-color-text);\n",
       "  box-shadow: 2pt 2pt 4pt #999;\n",
       "  /* unfitted */\n",
       "  background: var(--sklearn-color-unfitted-level-0);\n",
       "  border: .5pt solid var(--sklearn-color-unfitted-level-3);\n",
       "}\n",
       "\n",
       ".sk-estimator-doc-link.fitted span {\n",
       "  /* fitted */\n",
       "  background: var(--sklearn-color-fitted-level-0);\n",
       "  border: var(--sklearn-color-fitted-level-3);\n",
       "}\n",
       "\n",
       ".sk-estimator-doc-link:hover span {\n",
       "  display: block;\n",
       "}\n",
       "\n",
       "/* \"?\"-specific style due to the `<a>` HTML tag */\n",
       "\n",
       "#sk-container-id-1 a.estimator_doc_link {\n",
       "  float: right;\n",
       "  font-size: 1rem;\n",
       "  line-height: 1em;\n",
       "  font-family: monospace;\n",
       "  background-color: var(--sklearn-color-background);\n",
       "  border-radius: 1rem;\n",
       "  height: 1rem;\n",
       "  width: 1rem;\n",
       "  text-decoration: none;\n",
       "  /* unfitted */\n",
       "  color: var(--sklearn-color-unfitted-level-1);\n",
       "  border: var(--sklearn-color-unfitted-level-1) 1pt solid;\n",
       "}\n",
       "\n",
       "#sk-container-id-1 a.estimator_doc_link.fitted {\n",
       "  /* fitted */\n",
       "  border: var(--sklearn-color-fitted-level-1) 1pt solid;\n",
       "  color: var(--sklearn-color-fitted-level-1);\n",
       "}\n",
       "\n",
       "/* On hover */\n",
       "#sk-container-id-1 a.estimator_doc_link:hover {\n",
       "  /* unfitted */\n",
       "  background-color: var(--sklearn-color-unfitted-level-3);\n",
       "  color: var(--sklearn-color-background);\n",
       "  text-decoration: none;\n",
       "}\n",
       "\n",
       "#sk-container-id-1 a.estimator_doc_link.fitted:hover {\n",
       "  /* fitted */\n",
       "  background-color: var(--sklearn-color-fitted-level-3);\n",
       "}\n",
       "</style><div id=\"sk-container-id-1\" class=\"sk-top-container\"><div class=\"sk-text-repr-fallback\"><pre>RandomForestRegressor(min_samples_leaf=5, n_jobs=-1, verbose=1)</pre><b>In a Jupyter environment, please rerun this cell to show the HTML representation or trust the notebook. <br />On GitHub, the HTML representation is unable to render, please try loading this page with nbviewer.org.</b></div><div class=\"sk-container\" hidden><div class=\"sk-item\"><div class=\"sk-estimator fitted sk-toggleable\"><input class=\"sk-toggleable__control sk-hidden--visually\" id=\"sk-estimator-id-1\" type=\"checkbox\" checked><label for=\"sk-estimator-id-1\" class=\"sk-toggleable__label fitted sk-toggleable__label-arrow fitted\">&nbsp;&nbsp;RandomForestRegressor<a class=\"sk-estimator-doc-link fitted\" rel=\"noreferrer\" target=\"_blank\" href=\"https://scikit-learn.org/1.5/modules/generated/sklearn.ensemble.RandomForestRegressor.html\">?<span>Documentation for RandomForestRegressor</span></a><span class=\"sk-estimator-doc-link fitted\">i<span>Fitted</span></span></label><div class=\"sk-toggleable__content fitted\"><pre>RandomForestRegressor(min_samples_leaf=5, n_jobs=-1, verbose=1)</pre></div> </div></div></div></div>"
      ],
      "text/plain": [
       "RandomForestRegressor(min_samples_leaf=5, n_jobs=-1, verbose=1)"
      ]
     },
     "execution_count": 40,
     "metadata": {},
     "output_type": "execute_result"
    }
   ],
   "source": [
    "from sklearn.ensemble import RandomForestRegressor\n",
    "\n",
    "rf = RandomForestRegressor(\n",
    "    n_estimators=100,\n",
    "    min_samples_leaf=5,\n",
    "    n_jobs=-1,          # Use all cores\n",
    "    verbose=1           # Show progress\n",
    ")\n",
    "\n",
    "rf.fit(trn_xs, trn_y)"
   ]
  },
  {
   "cell_type": "code",
   "execution_count": 41,
   "id": "02994a84-84b7-48fa-8df2-2183e03328dd",
   "metadata": {},
   "outputs": [
    {
     "name": "stderr",
     "output_type": "stream",
     "text": [
      "[Parallel(n_jobs=24)]: Using backend ThreadingBackend with 24 concurrent workers.\n",
      "[Parallel(n_jobs=24)]: Done   2 tasks      | elapsed:    0.1s\n",
      "[Parallel(n_jobs=24)]: Done 100 out of 100 | elapsed:    0.4s finished\n"
     ]
    },
    {
     "data": {
      "text/plain": [
       "4.265879968060792"
      ]
     },
     "execution_count": 41,
     "metadata": {},
     "output_type": "execute_result"
    }
   ],
   "source": [
    "root_mean_squared_error(val_y, rf.predict(val_xs))"
   ]
  },
  {
   "cell_type": "code",
   "execution_count": 42,
   "id": "f1bbbd32-f30a-4de0-b44c-9dfc42d28301",
   "metadata": {},
   "outputs": [
    {
     "data": {
      "image/png": "[encoded data removed]",
      "text/plain": [
       "<Figure size 640x480 with 1 Axes>"
      ]
     },
     "metadata": {},
     "output_type": "display_data"
    }
   ],
   "source": [
    "pd.DataFrame(dict(cols=trn_xs.columns, imp=m.feature_importances_)).plot('cols', 'imp', 'barh');"
   ]
  },
  {
   "cell_type": "code",
   "execution_count": 43,
   "id": "0b567a8f-b011-41a6-93c9-1c8425636d72",
   "metadata": {},
   "outputs": [
    {
     "data": {
      "text/plain": [
       "((250000, 7), (250000, 7))"
      ]
     },
     "execution_count": 43,
     "metadata": {},
     "output_type": "execute_result"
    }
   ],
   "source": [
    "test_copy = test_df.copy()\n",
    "test_copy.shape, test_df.shape"
   ]
  },
  {
   "cell_type": "code",
   "execution_count": 44,
   "id": "3f680faf-9621-4c9f-a917-47fdd1d89671",
   "metadata": {},
   "outputs": [],
   "source": [
    "test_copy = test_copy.drop(columns = ['id'])"
   ]
  },
  {
   "cell_type": "code",
   "execution_count": 45,
   "id": "cf0b31b4-9ccb-4683-9c6a-55fb81b61460",
   "metadata": {},
   "outputs": [],
   "source": [
    "test_copy[cats] = test_copy[cats].apply(lambda x: x.cat.codes)"
   ]
  },
  {
   "cell_type": "code",
   "execution_count": 46,
   "id": "fa6f2237-57a6-406d-ac1b-5cd968b2af2d",
   "metadata": {},
   "outputs": [
    {
     "name": "stderr",
     "output_type": "stream",
     "text": [
      "[Parallel(n_jobs=24)]: Using backend ThreadingBackend with 24 concurrent workers.\n",
      "[Parallel(n_jobs=24)]: Done   2 tasks      | elapsed:    0.1s\n",
      "[Parallel(n_jobs=24)]: Done 100 out of 100 | elapsed:    0.5s finished\n"
     ]
    }
   ],
   "source": [
    "avg_probs = rf.predict(test_copy)"
   ]
  },
  {
   "cell_type": "code",
   "execution_count": 47,
   "id": "2c54665f-ba1e-42b2-a8ef-c63b021797d5",
   "metadata": {},
   "outputs": [
    {
     "data": {
      "text/plain": [
       "1.0173778166278167"
      ]
     },
     "execution_count": 47,
     "metadata": {},
     "output_type": "execute_result"
    }
   ],
   "source": [
    "avg_probs.min()"
   ]
  },
  {
   "cell_type": "code",
   "execution_count": 48,
   "id": "b479ca7b-07ef-458f-91e1-c5796659b7c7",
   "metadata": {},
   "outputs": [
    {
     "data": {
      "text/plain": [
       "(1.0173778166278167, 298.9622761623481)"
      ]
     },
     "execution_count": 48,
     "metadata": {},
     "output_type": "execute_result"
    }
   ],
   "source": [
    "final_preds = np.clip(avg_probs, trn_df[\"Calories\"].min(), trn_df[\"Calories\"].max())  \n",
    "\n",
    "final_preds.min(), final_preds.max()"
   ]
  },
  {
   "cell_type": "code",
   "execution_count": 49,
   "id": "07d589e4-749a-476e-844d-e48704eff715",
   "metadata": {},
   "outputs": [],
   "source": [
    "test_df['Calories'] = final_preds\n",
    "sub_df = test_df[['id','Calories']]\n",
    "sub_df.to_csv('rp.csv', index=False)"
   ]
  },
  {
   "cell_type": "code",
   "execution_count": 50,
   "id": "5ea5c3f0-2786-46a7-900d-ae087a57f30a",
   "metadata": {},
   "outputs": [
    {
     "data": {
      "text/plain": [
       "0          28.300515\n",
       "1         104.512285\n",
       "2          88.874485\n",
       "3         128.559003\n",
       "4          78.454513\n",
       "             ...    \n",
       "249995     26.149211\n",
       "249996      8.672307\n",
       "249997     73.120306\n",
       "249998    167.933359\n",
       "249999     75.414108\n",
       "Name: Calories, Length: 250000, dtype: float64"
      ]
     },
     "execution_count": 50,
     "metadata": {},
     "output_type": "execute_result"
    }
   ],
   "source": [
    "test_df['Calories'] "
   ]
  },
  {
   "cell_type": "markdown",
   "id": "5f8403e5-ee26-4c0d-a17d-34443b0ede25",
   "metadata": {},
   "source": [
    "With new feature as intensity = heart rate * duration: score 0.07372; \n",
    "without it : 0.06487"
   ]
  }
 ],
 "metadata": {
  "kernelspec": {
   "display_name": "Python 3 (ipykernel)",
   "language": "python",
   "name": "python3"
  },
  "language_info": {
   "codemirror_mode": {
    "name": "ipython",
    "version": 3
   },
   "file_extension": ".py",
   "mimetype": "text/x-python",
   "name": "python",
   "nbconvert_exporter": "python",
   "pygments_lexer": "ipython3",
   "version": "3.11.8"
  }
 },
 "nbformat": 4,
 "nbformat_minor": 5
}
